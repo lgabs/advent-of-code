{
 "cells": [
  {
   "cell_type": "markdown",
   "id": "9a837266",
   "metadata": {},
   "source": [
    "# Advent of Code\n",
    "\n",
    "Solutions for Advent of Code 2020 puzzles."
   ]
  },
  {
   "cell_type": "code",
   "execution_count": 270,
   "id": "13480ead",
   "metadata": {},
   "outputs": [],
   "source": [
    "def check_answer(result, answer=None):\n",
    "    print(\"Result: \", result)\n",
    "    if answer:\n",
    "        assert result == answer, f'Result not equal to answer {answer}.'"
   ]
  },
  {
   "cell_type": "markdown",
   "id": "0b90b235",
   "metadata": {},
   "source": [
    "## Day 1"
   ]
  },
  {
   "cell_type": "code",
   "execution_count": null,
   "id": "bad06023",
   "metadata": {},
   "outputs": [],
   "source": [
    "def day1_1(answer=None):\n",
    "    with open(\"day1.txt\", 'r') as f:\n",
    "        calories = f.read().splitlines()\n",
    "    elves_cal = []\n",
    "    total_cal = 0\n",
    "    for c in calories:\n",
    "        if c == '':\n",
    "            elves_cal.append(total_cal)\n",
    "            total_cal = 0\n",
    "        else:\n",
    "            total_cal += int(c)\n",
    "    result = max(elves_cal)\n",
    "    check_answer(result, answer)"
   ]
  },
  {
   "cell_type": "code",
   "execution_count": null,
   "id": "0e126e20",
   "metadata": {},
   "outputs": [],
   "source": [
    "day1_1(70509)"
   ]
  },
  {
   "cell_type": "code",
   "execution_count": null,
   "id": "be0f0cdf",
   "metadata": {},
   "outputs": [],
   "source": [
    "def day1_2(answer=None):\n",
    "    with open(\"day1.txt\", 'r') as f:\n",
    "        calories = f.read().splitlines()\n",
    "    elves_cal = []\n",
    "    total_cal = 0\n",
    "    for c in calories:\n",
    "        if c == '':\n",
    "            elves_cal.append(total_cal)\n",
    "            total_cal = 0\n",
    "        else:\n",
    "            total_cal += int(c)\n",
    "    result = sum(sorted(elves_cal, reverse=True)[:3])\n",
    "    check_answer(result, answer)"
   ]
  },
  {
   "cell_type": "code",
   "execution_count": null,
   "id": "6027577b",
   "metadata": {},
   "outputs": [],
   "source": [
    "day1_2(208567)"
   ]
  },
  {
   "cell_type": "markdown",
   "id": "720fa5c0",
   "metadata": {},
   "source": [
    "## Day 2"
   ]
  },
  {
   "cell_type": "code",
   "execution_count": null,
   "id": "5f6b2d9a",
   "metadata": {},
   "outputs": [],
   "source": [
    "def day2_1(answer=None):\n",
    "    with open(\"day2.txt\", 'r') as f:\n",
    "        games = f.read().splitlines()\n",
    "    games = [g.split(' ') for g in games]\n",
    "    \n",
    "    defeats = {'A': 'C', 'C': 'B', 'B': 'A'}\n",
    "    mapper = {'X': 'A', 'Y': 'B', 'Z': 'C'}\n",
    "    points = {'A': 1, 'B': 2, 'C': 3}\n",
    "\n",
    "    total_score = 0\n",
    "    for game in games:\n",
    "        p1,p2 = game\n",
    "        p2 = mapper[p2]\n",
    "        if p1 == p2:\n",
    "            total_score += 3 + points[p2] \n",
    "        elif defeats[p2] == p1:\n",
    "            total_score += 6 + points[p2]\n",
    "        else:\n",
    "            total_score += 0 + points[p2]\n",
    "            continue\n",
    "\n",
    "    check_answer(total_score, answer)"
   ]
  },
  {
   "cell_type": "code",
   "execution_count": null,
   "id": "c886c17c",
   "metadata": {},
   "outputs": [],
   "source": [
    "day2_1(14163)"
   ]
  },
  {
   "cell_type": "code",
   "execution_count": null,
   "id": "3a14df2c",
   "metadata": {},
   "outputs": [],
   "source": [
    "def day2_2(answer=None):\n",
    "    with open(\"day2.txt\", 'r') as f:\n",
    "        games = f.read().splitlines()\n",
    "    games = [g.split(' ') for g in games]\n",
    "    \n",
    "    defeats = {'A': 'C', 'C': 'B', 'B': 'A'}\n",
    "    loses = {v: k for k,v in defeats.items()}\n",
    "    points = {'A': 1, 'B': 2, 'C': 3}\n",
    "\n",
    "    total_score = 0\n",
    "    for game in games:\n",
    "        p1,p2 = game\n",
    "        if p2 == 'Y':\n",
    "            my_play = p1\n",
    "            total_score += points[my_play] + 3\n",
    "        elif p2 == 'Z':\n",
    "            my_play = loses[p1]\n",
    "            total_score += points[my_play] + 6\n",
    "        else:\n",
    "            my_play = defeats[p1]\n",
    "            total_score += points[my_play] + 0\n",
    "            continue\n",
    "\n",
    "    check_answer(total_score, answer)"
   ]
  },
  {
   "cell_type": "code",
   "execution_count": null,
   "id": "9936c4aa",
   "metadata": {},
   "outputs": [],
   "source": [
    "day2_2(12091)"
   ]
  },
  {
   "cell_type": "markdown",
   "id": "81a7f35b",
   "metadata": {},
   "source": [
    "## Day 3"
   ]
  },
  {
   "cell_type": "code",
   "execution_count": null,
   "id": "5eb02185",
   "metadata": {},
   "outputs": [],
   "source": [
    "import string \n",
    "\n",
    "def day3_1(answer=None):\n",
    "    with open(\"day3.txt\", 'r') as f:\n",
    "        rucksacks = f.read().splitlines()\n",
    "        \n",
    "    string.ascii_lowercase\n",
    "    priorities = string.ascii_lowercase + string.ascii_uppercase\n",
    "\n",
    "    def get_priority(letter):\n",
    "        return priorities.index(letter) + 1\n",
    "    \n",
    "    priority_sum = 0\n",
    "    for rucksack in rucksacks:\n",
    "        half = int(len(rucksack)/ 2)\n",
    "        compartment1 = set(rucksack[:half])\n",
    "        compartment2 = set(rucksack[half:])\n",
    "        \n",
    "        common_items = compartment1.intersection(compartment2)\n",
    "        for item in common_items:\n",
    "            priority_sum += get_priority(item)\n",
    "\n",
    "    check_answer(priority_sum, answer)"
   ]
  },
  {
   "cell_type": "code",
   "execution_count": null,
   "id": "a0c18644",
   "metadata": {},
   "outputs": [],
   "source": [
    "day3_1(answer=7967)"
   ]
  },
  {
   "cell_type": "code",
   "execution_count": null,
   "id": "9ce98679",
   "metadata": {},
   "outputs": [],
   "source": [
    "from typing import Iterable, Iterator\n",
    "import itertools\n",
    "import string\n",
    "\n",
    "\n",
    "def day3_2(answer=None):\n",
    "    with open(\"day3.txt\", 'r') as f:\n",
    "        rucksacks = f.read().splitlines()\n",
    "        \n",
    "    string.ascii_lowercase\n",
    "    priorities = string.ascii_lowercase + string.ascii_uppercase\n",
    "\n",
    "    def get_priority(letter):\n",
    "        return priorities.index(letter) + 1\n",
    "    \n",
    "    def grouper(iterable: Iterable, n: int) -> Iterator[list]:\n",
    "        iterator = iter(iterable)\n",
    "        while chunk := list(itertools.islice(iterator, n)):\n",
    "            yield chunk\n",
    "    \n",
    "    priority_sum = 0\n",
    "    for group in grouper(rucksacks, 3):\n",
    "        elves_items = []\n",
    "        for elf in group:\n",
    "            elves_items.append(set(elf))\n",
    "            \n",
    "        badges = set.intersection(*elves_items)\n",
    "        badge = next(iter(badges))\n",
    "            \n",
    "        priority_sum += get_priority(badge)\n",
    "\n",
    "    check_answer(priority_sum, answer)"
   ]
  },
  {
   "cell_type": "code",
   "execution_count": null,
   "id": "192673da",
   "metadata": {},
   "outputs": [],
   "source": [
    "%%time \n",
    "\n",
    "day3_2(answer=2716)"
   ]
  },
  {
   "cell_type": "markdown",
   "id": "44c55a8b",
   "metadata": {},
   "source": [
    "## Day 4"
   ]
  },
  {
   "cell_type": "code",
   "execution_count": 293,
   "id": "41322489",
   "metadata": {},
   "outputs": [],
   "source": [
    "def day4_1(answer=None):\n",
    "    with open(\"day4.txt\", 'r') as f:\n",
    "        pairs = f.read().splitlines()\n",
    "    cases = 0\n",
    "    for pair in pairs:\n",
    "        p1,p2 = pair.split(',')\n",
    "        p1 = set(range(int(p1.split('-')[0]),int(p1.split('-')[1]) + 1))\n",
    "        p2 = set(range(int(p2.split('-')[0]),int(p2.split('-')[1]) + 1))\n",
    "        if p1.issubset(p2) or p2.issubset(p1):\n",
    "            cases += 1\n",
    "    check_answer(cases, answer)"
   ]
  },
  {
   "cell_type": "code",
   "execution_count": 294,
   "id": "30f229e2",
   "metadata": {},
   "outputs": [
    {
     "name": "stdout",
     "output_type": "stream",
     "text": [
      "538\n"
     ]
    }
   ],
   "source": [
    "day4_1(538)"
   ]
  },
  {
   "cell_type": "code",
   "execution_count": 295,
   "id": "f9b19a0a",
   "metadata": {},
   "outputs": [],
   "source": [
    "def day4_2(answer=None):\n",
    "    with open(\"day4.txt\", 'r') as f:\n",
    "        pairs = f.read().splitlines()\n",
    "    \n",
    "    cases = 0\n",
    "    for pair in pairs:\n",
    "        p1,p2 = pair.split(',')\n",
    "        p1 = list(range(int(p1.split('-')[0]),int(p1.split('-')[1]) + 1))\n",
    "        p2 = list(range(int(p2.split('-')[0]),int(p2.split('-')[1]) + 1))\n",
    "        if (p1[-1] >= p2[0] and p1[-1] <= p2[-1]) or (p2[-1] >= p1[0] and p2[-1] <= p1[-1]):\n",
    "            cases += 1\n",
    "    check_answer(cases, answer)"
   ]
  },
  {
   "cell_type": "code",
   "execution_count": 296,
   "id": "63962a18",
   "metadata": {},
   "outputs": [
    {
     "name": "stdout",
     "output_type": "stream",
     "text": [
      "792\n"
     ]
    }
   ],
   "source": [
    "day4_2(792)"
   ]
  },
  {
   "cell_type": "markdown",
   "id": "aac2edaf",
   "metadata": {},
   "source": [
    "## Day 5"
   ]
  },
  {
   "cell_type": "code",
   "execution_count": 298,
   "id": "3d6679ae",
   "metadata": {},
   "outputs": [],
   "source": [
    "import queue\n",
    "from pprint import pprint\n",
    "import re\n",
    "\n",
    "def parse_things(input_path=\"day5.txt\"):\n",
    "    with open(input_path, 'r') as f:\n",
    "        input_data = f.read().splitlines()\n",
    "\n",
    "    for i, line in enumerate(input_data):\n",
    "        if line == \"\":\n",
    "            sep = i\n",
    "    stacks = input_data[:sep - 1]\n",
    "    operations = input_data[sep + 1:]\n",
    "    n_stacks = int(input_data[sep - 1].strip()[-1])\n",
    "    stacks2 = {i :[] for i in range(1, n_stacks + 1)}\n",
    "    for line in stacks:\n",
    "        for n_stack in range(1, n_stacks + 1):\n",
    "            idx = 1 + 4 * (n_stack - 1)\n",
    "            crate = line[idx]\n",
    "            if crate != ' ':\n",
    "                if not stacks2[n_stack]:\n",
    "                    stacks2[n_stack] = [crate]\n",
    "                else:\n",
    "                    stacks2[n_stack] = [crate] + stacks2[n_stack]\n",
    "\n",
    "    stacks3 = {i :queue.LifoQueue() for i in range(1, n_stacks + 1)}\n",
    "\n",
    "    for i, stack in stacks2.items():\n",
    "        for crate in stack:\n",
    "            stacks3[i].put(crate)\n",
    "        \n",
    "    operations2 = [re.findall(r\"[0-9]+\", op) for op in operations]\n",
    "    operations2 = [[int(l) for l in v] for v in operations2]\n",
    "    \n",
    "    return stacks3, operations2\n",
    "\n",
    "def day5_1(answer=None):\n",
    "\n",
    "    stacks, operations = parse_things()\n",
    "    \n",
    "    # Move Crates!\n",
    "    for i, op in enumerate(operations):\n",
    "        n_crates, stack_i, stack_j = op\n",
    "        for i in range(n_crates):\n",
    "            if not stacks[stack_i].empty():\n",
    "                crate = stacks[stack_i].get()\n",
    "                stacks[stack_j].put(crate)\n",
    "            else:\n",
    "                print(\"Empty Queue! There was more crates required than stack's size.\")\n",
    "                return \n",
    "    \n",
    "    result = ''.join(q.get() for q in stacks.values() if not q.empty())\n",
    "    check_answer(result, answer)\n"
   ]
  },
  {
   "cell_type": "code",
   "execution_count": 299,
   "id": "b3c0baad",
   "metadata": {},
   "outputs": [
    {
     "name": "stdout",
     "output_type": "stream",
     "text": [
      "FJSRQCFTN\n"
     ]
    }
   ],
   "source": [
    "day5_1('FJSRQCFTN')"
   ]
  },
  {
   "cell_type": "code",
   "execution_count": 374,
   "id": "6e2b1e27",
   "metadata": {},
   "outputs": [],
   "source": [
    "def day5_2(answer=None):\n",
    "\n",
    "    stacks, operations = parse_things(\"day5.txt\")\n",
    "    \n",
    "    # Move Crates!\n",
    "    for i, op in enumerate(operations):\n",
    "        n_crates, stack_i, stack_j = op\n",
    "        crates = []\n",
    "        for i in range(n_crates):\n",
    "            if not stacks[stack_i].empty():\n",
    "                crates.append(stacks[stack_i].get())\n",
    "            else:\n",
    "                print(\"Empty Queue! There was more crates required than stack's size.\")\n",
    "                return \n",
    "        for crate in crates[::-1]:\n",
    "            stacks[stack_j].put(crate)\n",
    "    \n",
    "    result = ''.join(q.get() for q in stacks.values() if not q.empty())\n",
    "    check_answer(result, answer)"
   ]
  },
  {
   "cell_type": "code",
   "execution_count": 375,
   "id": "c73831ed",
   "metadata": {},
   "outputs": [
    {
     "name": "stdout",
     "output_type": "stream",
     "text": [
      "CJVLJQPHS\n"
     ]
    }
   ],
   "source": [
    "day5_2('CJVLJQPHS')"
   ]
  },
  {
   "cell_type": "markdown",
   "id": "3c7ed927",
   "metadata": {},
   "source": [
    "## Day 6\n",
    "\n",
    "We can use a unique function for both parts."
   ]
  },
  {
   "cell_type": "code",
   "execution_count": 399,
   "id": "7fd95524",
   "metadata": {},
   "outputs": [],
   "source": [
    "import queue\n",
    "\n",
    "def day_6_1(n=4, answer=None):\n",
    "    with open(\"day6.txt\", 'r') as f:\n",
    "        input_data = f.read().splitlines()[0]\n",
    "    \n",
    "    marker = []\n",
    "    for i in range(n-1, len(input_data)):\n",
    "        last4 = list(input_data[i-(n-1):i+1])\n",
    "        last4uniques = [item for item, count in collections.Counter(last4).items() if count == 1]\n",
    "        if last4 == last4uniques:\n",
    "            return i + 1\n",
    "    check_answer(result, answer)"
   ]
  },
  {
   "cell_type": "code",
   "execution_count": 400,
   "id": "b7843c3e",
   "metadata": {},
   "outputs": [
    {
     "data": {
      "text/plain": [
       "1723"
      ]
     },
     "execution_count": 400,
     "metadata": {},
     "output_type": "execute_result"
    }
   ],
   "source": [
    "day_6_1(n=4, answer=1723)"
   ]
  },
  {
   "cell_type": "code",
   "execution_count": 401,
   "id": "fa8bb78c",
   "metadata": {},
   "outputs": [
    {
     "data": {
      "text/plain": [
       "3708"
      ]
     },
     "execution_count": 401,
     "metadata": {},
     "output_type": "execute_result"
    }
   ],
   "source": [
    "day_6_1(n=14, answer=3708)"
   ]
  },
  {
   "cell_type": "markdown",
   "id": "3bcc4607",
   "metadata": {},
   "source": [
    "\n",
    "## Day 7"
   ]
  },
  {
   "cell_type": "code",
   "execution_count": 307,
   "id": "016621bf",
   "metadata": {},
   "outputs": [],
   "source": [
    "from __future__ import annotations\n",
    "from typing import Union, Tuple, List\n",
    "import re\n",
    "\n",
    "Commands: list[str]\n",
    "File: dict\n",
    "Dir: dict[Union[Dir, File], Dir]\n",
    "\n",
    "def mount_tree() -> Tuple[Dir, List[Dir]]:\n",
    "    with open('day7.txt', 'r') as f:\n",
    "        commands: Commands = f.read().splitlines()\n",
    "\n",
    "    # checks cmd 'ls'\n",
    "    ls_regex = re.compile(r'^\\$\\sls') \n",
    "    # checks cmd 'cd some_dir'\n",
    "    cd_regex = re.compile(r'\\$\\scd\\s(.+)') \n",
    "    # checks terminal output of some file with its size like '123 some_file.extension'\n",
    "    file_regex = re.compile(r'^([0-9]+)\\s+(.+)')\n",
    "    # checks terminal output for a name of folder\n",
    "    dir_regex = re.compile(r\"dir(.+)\")\n",
    "\n",
    "    # terminal starts with '~'\n",
    "    current_dir: Dir = {}\n",
    "    current_dir['.'] = current_dir\n",
    "    current_dir['..'] = None\n",
    "    current_dir['name'] = '~'\n",
    "    tree: Dir = current_dir\n",
    "    all_dirs = [current_dir]\n",
    "    \n",
    "    def add_child_dir(current_dir: Dir, next_dir_name: str, all_dirs) -> None:\n",
    "        next_dir: Dir = {'.': None, '..': current_dir, 'name': next_dir_name}\n",
    "        next_dir['.'] = next_dir        \n",
    "        current_dir.update({next_dir_name: next_dir}) \n",
    "        all_dirs.append(next_dir)\n",
    "        return next_dir\n",
    "\n",
    "    for cmd in commands:\n",
    "        if ls_regex.search(cmd):\n",
    "            continue\n",
    "        elif cd_regex.search(cmd):\n",
    "            next_dir_name = cd_regex.search(cmd).groups()[0]\n",
    "            if next_dir_name not in current_dir:\n",
    "                next_dir = add_child_dir(current_dir, next_dir_name, all_dirs)\n",
    "            else:\n",
    "                next_dir: Dir = current_dir[next_dir_name]\n",
    "            current_dir: Dir = next_dir\n",
    "        elif file_regex.search(cmd):\n",
    "            size, file_name = file_regex.search(cmd).groups()\n",
    "            if file_name not in current_dir:\n",
    "                file: File = {file_name: size}\n",
    "                current_dir.update(file)\n",
    "        elif dir_regex.search(cmd):\n",
    "            next_dir_name = dir_regex.search(cmd).groups()[0]\n",
    "            if next_dir_name not in current_dir:\n",
    "                next_dir = add_child_dir(current_dir, next_dir_name, all_dirs)\n",
    "        else:\n",
    "            raise ValueError(f\"Invalid command '{cmd}'.\")\n",
    "    \n",
    "    return tree, all_dirs\n",
    "\n",
    "def calc_child_size(obj: Union[Dir, int]) -> int:\n",
    "    size = 0\n",
    "    if isinstance(obj, dict):\n",
    "        for k, v in obj.items():\n",
    "            if k not in ('.', '..', 'name'):\n",
    "                if isinstance(v, int):\n",
    "                    size += v\n",
    "                else:\n",
    "                    size += calc_child_size(v)\n",
    "    else:\n",
    "        size = int(obj)\n",
    "    return size\n",
    "    \n",
    "def day7_1(answer=None):\n",
    "    \n",
    "    tree: Dir\n",
    "    all_dirs: List[Dir]\n",
    "    tree, all_dirs = mount_tree()\n",
    "        \n",
    "    result = 0\n",
    "    _all_dirs = [v for v in all_dirs if v['name'] != '~']\n",
    "    for directory in _all_dirs:\n",
    "        size = calc_child_size(directory)\n",
    "        if size <= 100000:\n",
    "            result += size\n",
    "    result\n",
    "\n",
    "    check_answer(result, answer)"
   ]
  },
  {
   "cell_type": "code",
   "execution_count": 308,
   "id": "63bcfb9a",
   "metadata": {},
   "outputs": [
    {
     "name": "stdout",
     "output_type": "stream",
     "text": [
      "1783610\n"
     ]
    }
   ],
   "source": [
    "day7_1(1783610)"
   ]
  },
  {
   "cell_type": "code",
   "execution_count": 313,
   "id": "2b8b9139",
   "metadata": {},
   "outputs": [],
   "source": [
    "def day7_2(answer=None, total_disk = 70000000, min_memory_needed = 30000000):\n",
    "    \n",
    "    tree: Dir\n",
    "    all_dirs: List[Dir]\n",
    "    tree, all_dirs = mount_tree()\n",
    "\n",
    "    _all_dirs = [v for v in all_dirs if v['name'] != '~']\n",
    "    free = total_disk - calc_child_size(all_dirs[0]) # the '/' folder\n",
    "    to_free_up = min_memory_needed - free\n",
    "        \n",
    "    result = None\n",
    "    for d in _all_dirs:\n",
    "        size = calc_child_size(d)\n",
    "        if not result:\n",
    "            result = size\n",
    "        if size >= to_free_up and size < result:\n",
    "            result = size\n",
    "\n",
    "    check_answer(result, answer)"
   ]
  },
  {
   "cell_type": "code",
   "execution_count": 324,
   "id": "e2b58dec",
   "metadata": {},
   "outputs": [
    {
     "name": "stdout",
     "output_type": "stream",
     "text": [
      "CPU times: user 2 µs, sys: 1e+03 ns, total: 3 µs\n",
      "Wall time: 4.05 µs\n",
      "4370655\n"
     ]
    }
   ],
   "source": [
    "%time\n",
    "day7_2(4370655)"
   ]
  },
  {
   "cell_type": "markdown",
   "id": "4258b9b3",
   "metadata": {},
   "source": [
    "## Day 8"
   ]
  },
  {
   "cell_type": "code",
   "execution_count": 326,
   "id": "e42b72f5",
   "metadata": {},
   "outputs": [],
   "source": [
    "import numpy as np\n",
    "\n",
    "\n",
    "def day8_1(answer=None):\n",
    "    with open(\"day8.txt\", 'r') as f:\n",
    "        X = f.read().splitlines()\n",
    "        X = [list(row) for row in X]\n",
    "        X = np.array(X)\n",
    "\n",
    "    m, n = X.shape\n",
    "\n",
    "    visibles = 0\n",
    "    edges = 2 * X.shape[0] + 2 * (X.shape[1] - 2)\n",
    "    for i in range(1, m-1):\n",
    "        for j in range(1, n-1):\n",
    "            if (\n",
    "                X[i,j] > max(X[:i,j]) \n",
    "                or X[i,j] > max(X[i+1:, j])\n",
    "                or X[i,j] > max(X[i, :j])\n",
    "                or X[i,j] > max(X[i, j+1:])\n",
    "            ):\n",
    "                visibles += 1\n",
    "    \n",
    "    result = visibles + edges\n",
    "    \n",
    "    check_answer(result, answer)"
   ]
  },
  {
   "cell_type": "code",
   "execution_count": 327,
   "id": "2b87161e",
   "metadata": {},
   "outputs": [
    {
     "name": "stdout",
     "output_type": "stream",
     "text": [
      "CPU times: user 2 µs, sys: 0 ns, total: 2 µs\n",
      "Wall time: 3.34 µs\n",
      "1560\n"
     ]
    }
   ],
   "source": [
    "%time \n",
    "day8_1(1560)"
   ]
  },
  {
   "cell_type": "code",
   "execution_count": 331,
   "id": "04a33318",
   "metadata": {},
   "outputs": [],
   "source": [
    "import numpy as np\n",
    "\n",
    "def day8_2(answer=None):\n",
    "\n",
    "    with open(\"day8.txt\", 'r') as f:\n",
    "        X = f.read().splitlines()\n",
    "        X = [list(row) for row in X]\n",
    "        X = np.array(X)\n",
    "\n",
    "    m, n = X.shape\n",
    "\n",
    "    def find_visibles(arr, value, ascending=True):\n",
    "        visibles = 0\n",
    "        arr = arr if ascending else arr[::-1]\n",
    "        for a in arr:\n",
    "            if a < value:\n",
    "                visibles += 1\n",
    "            else:\n",
    "                visibles += 1\n",
    "                break\n",
    "        return visibles  \n",
    "\n",
    "    scores = np.zeros((m,n))\n",
    "    for i in range(1, m-1):\n",
    "        for j in range(1, n-1):\n",
    "            score = 0\n",
    "            left = find_visibles(X[:i, j], X[i,j], ascending=False) # left\n",
    "            right = find_visibles(X[i+1:, j], X[i,j], ascending=True) # right\n",
    "            up = find_visibles(X[i, :j], X[i,j], ascending=False) # up\n",
    "            down = find_visibles(X[i, j+1:], X[i,j], ascending=True) # down\n",
    "\n",
    "            score = left * right * up * down\n",
    "            scores[i,j] = score\n",
    "            \n",
    "    result = int(scores.max())\n",
    "    check_answer(result, answer)"
   ]
  },
  {
   "cell_type": "code",
   "execution_count": 333,
   "id": "84dbcaa0",
   "metadata": {},
   "outputs": [
    {
     "name": "stdout",
     "output_type": "stream",
     "text": [
      "CPU times: user 2 µs, sys: 0 ns, total: 2 µs\n",
      "Wall time: 3.81 µs\n",
      "252000\n"
     ]
    }
   ],
   "source": [
    "%time\n",
    "\n",
    "day8_2(252000)"
   ]
  },
  {
   "cell_type": "markdown",
   "id": "972e7a47",
   "metadata": {},
   "source": [
    "## Day 9\n",
    "\n",
    "- Due to the aforementioned Planck lengths, the rope must be quite short; in fact, the head (H) and tail (T) must always be touching (diagonally adjacent and even overlapping both count as touching):\n",
    "- After each step, you'll need to update the position of the tail if the step means the head is no longer adjacent to the tail"
   ]
  },
  {
   "cell_type": "code",
   "execution_count": null,
   "id": "2c72d086",
   "metadata": {},
   "outputs": [],
   "source": [
    "# simular um passo de cada vez\n",
    "# dist max é de sqrt(2), cc tem que mover na direcao que tem menor distancia\n",
    "# contar as posicoes visitadas pelo menos uma vez"
   ]
  },
  {
   "cell_type": "code",
   "execution_count": 2,
   "id": "3f0bc21b",
   "metadata": {},
   "outputs": [
    {
     "name": "stdout",
     "output_type": "stream",
     "text": [
      "L 1\r\n",
      "R 1\r\n",
      "L 1\r\n",
      "U 1\r\n",
      "R 2\r\n"
     ]
    }
   ],
   "source": [
    "!head -n 5 day9.txt"
   ]
  },
  {
   "cell_type": "code",
   "execution_count": 187,
   "id": "9d4f470b",
   "metadata": {},
   "outputs": [],
   "source": [
    "import numpy as np\n",
    "import matplotlib.pyplot as plt\n",
    "plt.style.use(\"fivethirtyeight\")\n",
    "\n",
    "def get_signed_vectors(direction, steps):\n",
    "    mapper = {\n",
    "        'L': np.array([-1,0]),\n",
    "        'R': np.array([1,0]),\n",
    "        'U': np.array([0,1]),\n",
    "        'D': np.array([0,-1]),\n",
    "    }\n",
    "    return np.array([mapper[direction] for _ in range(int(steps))])\n",
    "\n",
    "\n",
    "def vector_to_move(arr):\n",
    "    v = np.copy(arr)\n",
    "    v[np.abs(v)>1] = np.sign(v[np.abs(v)>1]) * (np.abs(v[np.abs(v)>1]) - 1)\n",
    "    return v\n",
    "\n",
    "def plot_rope_and_visits(H,T,visits):\n",
    "    plt.scatter(H[0], H[1], label=f\"$H = ({H[0]}, {H[1]})$\")\n",
    "    plt.scatter(T[0], T[1], label=f\"$T = ({T[0]}, {T[1]})$\")\n",
    "    plt.xlabel(\"X\")\n",
    "    plt.ylabel(\"Y\")\n",
    "    plt.title(\"Rope State\")\n",
    "\n",
    "    x, y = [v[0] for v in visits], [v[1] for v in visits]\n",
    "    plt.plot(x,y, label=\"Tail visits\", lw=1)\n",
    "    \n",
    "    plt.legend(loc='upper right',  bbox_to_anchor=(1.5, 1))\n",
    "    \n",
    "\n",
    "def day9_1(answer=None, plot=True):\n",
    "    with open(\"day9.txt\", 'r') as f:\n",
    "        motions = f.read().splitlines()\n",
    "        motions = [el.split(' ') for el in motions]\n",
    "    motion_vectors = []\n",
    "    for direction, steps in motions:\n",
    "        vectors = get_signed_vectors(direction, steps)\n",
    "    motion_vectors = [get_signed_vectors(direction, steps) for direction, steps in motions]\n",
    "    \n",
    "    # H and T starts at (0,0) without loss of generality\n",
    "    H = np.array([0,0])\n",
    "    T = np.array([0,0])\n",
    "    tail_visited = [list(T)]\n",
    "\n",
    "    for motions in motion_vectors:\n",
    "        for motion in motions:\n",
    "            # make H to move\n",
    "            H = H + motion\n",
    "            # find difference vector\n",
    "            diff = H - T\n",
    "            # make T to move if difference is higher than sqrt(2)\n",
    "            if np.linalg.norm(diff) > np.sqrt(2):\n",
    "                T = T + vector_to_move(diff)\n",
    "                if list(T) not in tail_visited:\n",
    "                    tail_visited.append(list(T))\n",
    "                    \n",
    "    check_answer(result=len(tail_visited), answer=answer)\n",
    "    \n",
    "    if plot:\n",
    "        plot_rope_and_visits(H, T, tail_visited)"
   ]
  },
  {
   "cell_type": "code",
   "execution_count": 188,
   "id": "27d0d165",
   "metadata": {},
   "outputs": [
    {
     "name": "stdout",
     "output_type": "stream",
     "text": [
      "5960\n"
     ]
    },
    {
     "data": {
      "image/png": "[encoded data removed]",
      "text/plain": [
       "<Figure size 432x288 with 1 Axes>"
      ]
     },
     "metadata": {},
     "output_type": "display_data"
    }
   ],
   "source": [
    "day9_1(5960)"
   ]
  },
  {
   "cell_type": "code",
   "execution_count": 285,
   "id": "49e05f41",
   "metadata": {},
   "outputs": [],
   "source": [
    "import numpy as np\n",
    "import matplotlib.pyplot as plt\n",
    "    \n",
    "\n",
    "def plot_knots_and_visits(knots, visits):\n",
    "    H,T = knots[0], knots[-1]\n",
    "    plt.scatter(H[0], H[1], label=f\"$H = ({H[0]}, {H[1]})$\", c='green')\n",
    "    plt.scatter(T[0], T[1], label=f\"$T = ({T[0]}, {T[1]})$\", c='red')\n",
    "    x_other_knots, y_other_knots = [v[0] for v in knots[1:-1]], [v[1] for v in knots[1:-1]]\n",
    "    plt.scatter(x_other_knots, y_other_knots, label=\"other knots\", alpha=0.4, c='gray')\n",
    "    \n",
    "    plt.xlabel(\"X\")\n",
    "    plt.ylabel(\"Y\")\n",
    "    plt.title(\"Rope State\")\n",
    "\n",
    "    x, y = [v[0] for v in visits], [v[1] for v in visits]\n",
    "    plt.plot(x,y, label=\"Tail visits\", lw=1)\n",
    "    \n",
    "    plt.legend(loc='upper right',  bbox_to_anchor=(1.5, 1))\n",
    "    \n",
    "def day9(n_knots, answer=None, plot=True):\n",
    "    # Get input data and mount vectors of motions\n",
    "    with open(\"day9.txt\", 'r') as f:\n",
    "        motions = f.read().splitlines()\n",
    "        motions = [el.split(' ') for el in motions]\n",
    "    motion_vectors = []\n",
    "    for direction, steps in motions:\n",
    "        vectors = get_signed_vectors(direction, steps)\n",
    "    motion_vectors = [get_signed_vectors(direction, steps) for direction, steps in motions]\n",
    "\n",
    "    \n",
    "    # H is the first knot, T is the last knot\n",
    "    knots = [np.array([0,0]) for _ in range(n_knots)]    \n",
    "    tail_visited = [list(knots[-1])]\n",
    "    \n",
    "    \n",
    "    for head_motions in motion_vectors:\n",
    "#         print(\"motions:\\n\", head_motions)\n",
    "        for head_motion in head_motions:\n",
    "            for i, knot in enumerate(knots):\n",
    "                if i == 0:\n",
    "                    # make H to move\n",
    "                    knots[i] = knots[i] + head_motion \n",
    "                    knot_ahead = knots[i]\n",
    "#                     print(\"H: \", knots[i])\n",
    "                else:\n",
    "                    # find difference vector\n",
    "                    diff = knot_ahead - knot\n",
    "                    # make knot to move if difference is higher than sqrt(2)\n",
    "                    if np.linalg.norm(diff) > np.sqrt(2):\n",
    "                        knot = knot + vector_to_move(diff)\n",
    "                        if (i == n_knots - 1) and (list(knot) not in tail_visited):\n",
    "                            tail_visited.append(list(knot))\n",
    "                    knots[i] = knot # update knot\n",
    "                    knot_ahead = knot\n",
    "\n",
    "    check_answer(result=len(tail_visited), answer=answer)\n",
    "    \n",
    "    if plot:\n",
    "        plot_knots_and_visits(knots, tail_visited)"
   ]
  },
  {
   "cell_type": "code",
   "execution_count": 287,
   "id": "038573a9",
   "metadata": {},
   "outputs": [
    {
     "name": "stdout",
     "output_type": "stream",
     "text": [
      "Result:  5960\n"
     ]
    },
    {
     "data": {
      "image/png": "[encoded data removed]",
      "text/plain": [
       "<Figure size 432x288 with 1 Axes>"
      ]
     },
     "metadata": {},
     "output_type": "display_data"
    }
   ],
   "source": [
    "day9(n_knots=2)"
   ]
  },
  {
   "cell_type": "code",
   "execution_count": 288,
   "id": "6b7bdb4b",
   "metadata": {},
   "outputs": [
    {
     "name": "stdout",
     "output_type": "stream",
     "text": [
      "Result:  2327\n"
     ]
    },
    {
     "data": {
      "image/png": "[encoded data removed]",
      "text/plain": [
       "<Figure size 432x288 with 1 Axes>"
      ]
     },
     "metadata": {},
     "output_type": "display_data"
    }
   ],
   "source": [
    "day9(n_knots=10)"
   ]
  },
  {
   "cell_type": "code",
   "execution_count": null,
   "id": "3fd18f20",
   "metadata": {},
   "outputs": [],
   "source": []
  }
 ],
 "metadata": {
  "kernelspec": {
   "display_name": "Python 3 (ipykernel)",
   "language": "python",
   "name": "python3"
  },
  "language_info": {
   "codemirror_mode": {
    "name": "ipython",
    "version": 3
   },
   "file_extension": ".py",
   "mimetype": "text/x-python",
   "name": "python",
   "nbconvert_exporter": "python",
   "pygments_lexer": "ipython3",
   "version": "3.10.6"
  }
 },
 "nbformat": 4,
 "nbformat_minor": 5
}
