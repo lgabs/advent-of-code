{
 "cells": [
  {
   "cell_type": "markdown",
   "id": "9a837266",
   "metadata": {},
   "source": [
    "# Advent of Code\n",
    "\n",
    "Solutions for Advent of Code 2020 puzzles."
   ]
  },
  {
   "cell_type": "code",
   "execution_count": 44,
   "id": "13480ead",
   "metadata": {},
   "outputs": [],
   "source": [
    "def check_answer(result, answer=None):\n",
    "    print(result)\n",
    "    if answer:\n",
    "        assert result == answer, f'Result not equal to answer {answer}.'"
   ]
  },
  {
   "cell_type": "markdown",
   "id": "0b90b235",
   "metadata": {},
   "source": [
    "## Day 1"
   ]
  },
  {
   "cell_type": "code",
   "execution_count": 45,
   "id": "bad06023",
   "metadata": {},
   "outputs": [],
   "source": [
    "def day1_1(answer=None):\n",
    "    \"\"\"\n",
    "    Find the Elf carrying more calories in total.\n",
    "    \"\"\"\n",
    "    with open(\"day1.txt\", 'r') as f:\n",
    "        calories = f.read().splitlines()\n",
    "    elves_cal = []\n",
    "    total_cal = 0\n",
    "    for c in calories:\n",
    "        if c == '':\n",
    "            elves_cal.append(total_cal)\n",
    "            total_cal = 0\n",
    "        else:\n",
    "            total_cal += int(c)\n",
    "    result = max(elves_cal)\n",
    "    check_answer(result, answer)"
   ]
  },
  {
   "cell_type": "code",
   "execution_count": 48,
   "id": "0e126e20",
   "metadata": {},
   "outputs": [
    {
     "name": "stdout",
     "output_type": "stream",
     "text": [
      "70509\n"
     ]
    }
   ],
   "source": [
    "day1_1(70509)"
   ]
  },
  {
   "cell_type": "code",
   "execution_count": 51,
   "id": "be0f0cdf",
   "metadata": {},
   "outputs": [],
   "source": [
    "def day1_2(answer=None):\n",
    "    \"\"\"\n",
    "    Find the top 3 Elves carrying more calories in total.\n",
    "    \"\"\"\n",
    "    with open(\"day1.txt\", 'r') as f:\n",
    "        calories = f.read().splitlines()\n",
    "    elves_cal = []\n",
    "    total_cal = 0\n",
    "    for c in calories:\n",
    "        if c == '':\n",
    "            elves_cal.append(total_cal)\n",
    "            total_cal = 0\n",
    "        else:\n",
    "            total_cal += int(c)\n",
    "    result = sum(sorted(elves_cal, reverse=True)[:3])\n",
    "    check_answer(result, answer)"
   ]
  },
  {
   "cell_type": "code",
   "execution_count": 52,
   "id": "6027577b",
   "metadata": {},
   "outputs": [
    {
     "name": "stdout",
     "output_type": "stream",
     "text": [
      "208567\n"
     ]
    }
   ],
   "source": [
    "day1_2(208567)"
   ]
  },
  {
   "cell_type": "markdown",
   "id": "720fa5c0",
   "metadata": {},
   "source": [
    "## Day 2"
   ]
  },
  {
   "cell_type": "code",
   "execution_count": 54,
   "id": "5f6b2d9a",
   "metadata": {},
   "outputs": [],
   "source": [
    "def day2_1(answer=None):\n",
    "    \"\"\"\n",
    "    Solves day 2 part 1.\n",
    "    \"\"\"\n",
    "    with open(\"day2.txt\", 'r') as f:\n",
    "        games = f.read().splitlines()\n",
    "    games = [g.split(' ') for g in games]\n",
    "    \n",
    "    defeats = {'A': 'C', 'C': 'B', 'B': 'A'}\n",
    "    mapper = {'X': 'A', 'Y': 'B', 'Z': 'C'}\n",
    "    points = {'A': 1, 'B': 2, 'C': 3}\n",
    "\n",
    "    total_score = 0\n",
    "    for game in games:\n",
    "        p1,p2 = game\n",
    "        p2 = mapper[p2]\n",
    "        if p1 == p2:\n",
    "            total_score += 3 + points[p2] \n",
    "        elif defeats[p2] == p1:\n",
    "            total_score += 6 + points[p2]\n",
    "        else:\n",
    "            total_score += 0 + points[p2]\n",
    "            continue\n",
    "\n",
    "    check_answer(total_score, answer)"
   ]
  },
  {
   "cell_type": "code",
   "execution_count": 55,
   "id": "c886c17c",
   "metadata": {},
   "outputs": [
    {
     "name": "stdout",
     "output_type": "stream",
     "text": [
      "14163\n"
     ]
    }
   ],
   "source": [
    "day2_1(14163)"
   ]
  },
  {
   "cell_type": "code",
   "execution_count": 56,
   "id": "3a14df2c",
   "metadata": {},
   "outputs": [],
   "source": [
    "def day2_2(answer=None):\n",
    "    \"\"\"\n",
    "    Solves day 2 part 2.\n",
    "    \"\"\"\n",
    "    with open(\"day2.txt\", 'r') as f:\n",
    "        games = f.read().splitlines()\n",
    "    games = [g.split(' ') for g in games]\n",
    "    \n",
    "    defeats = {'A': 'C', 'C': 'B', 'B': 'A'}\n",
    "    loses = {v: k for k,v in defeats.items()}\n",
    "    points = {'A': 1, 'B': 2, 'C': 3}\n",
    "\n",
    "    total_score = 0\n",
    "    for game in games:\n",
    "        p1,p2 = game\n",
    "        if p2 == 'Y':\n",
    "            my_play = p1\n",
    "            total_score += points[my_play] + 3\n",
    "        elif p2 == 'Z':\n",
    "            my_play = loses[p1]\n",
    "            total_score += points[my_play] + 6\n",
    "        else:\n",
    "            my_play = defeats[p1]\n",
    "            total_score += points[my_play] + 0\n",
    "            continue\n",
    "\n",
    "    check_answer(total_score, answer)"
   ]
  },
  {
   "cell_type": "code",
   "execution_count": 57,
   "id": "9936c4aa",
   "metadata": {},
   "outputs": [
    {
     "name": "stdout",
     "output_type": "stream",
     "text": [
      "12091\n"
     ]
    }
   ],
   "source": [
    "day2_2(12091)"
   ]
  },
  {
   "cell_type": "markdown",
   "id": "81a7f35b",
   "metadata": {},
   "source": [
    "## Day 3"
   ]
  },
  {
   "cell_type": "code",
   "execution_count": 64,
   "id": "5eb02185",
   "metadata": {},
   "outputs": [],
   "source": [
    "import string \n",
    "\n",
    "def day3_1(answer=None):\n",
    "    \"\"\"\n",
    "    Solves day 3 part 1.\n",
    "    \"\"\"\n",
    "    with open(\"day3.txt\", 'r') as f:\n",
    "        rucksacks = f.read().splitlines()\n",
    "        \n",
    "    string.ascii_lowercase\n",
    "    priorities = string.ascii_lowercase + string.ascii_uppercase\n",
    "\n",
    "    def get_priority(letter):\n",
    "        return priorities.index(letter) + 1\n",
    "    \n",
    "    priority_sum = 0\n",
    "    for rucksack in rucksacks:\n",
    "        half = int(len(rucksack)/ 2)\n",
    "        compartment1 = set(rucksack[:half])\n",
    "        compartment2 = set(rucksack[half:])\n",
    "        \n",
    "        common_items = compartment1.intersection(compartment2)\n",
    "        for item in common_items:\n",
    "            priority_sum += get_priority(item)\n",
    "\n",
    "    check_answer(priority_sum, answer)"
   ]
  },
  {
   "cell_type": "code",
   "execution_count": 65,
   "id": "a0c18644",
   "metadata": {},
   "outputs": [
    {
     "name": "stdout",
     "output_type": "stream",
     "text": [
      "7967\n"
     ]
    }
   ],
   "source": [
    "day3_1(answer=7967)"
   ]
  },
  {
   "cell_type": "code",
   "execution_count": 68,
   "id": "9ce98679",
   "metadata": {},
   "outputs": [],
   "source": [
    "from typing import Iterable, Iterator\n",
    "import itertools\n",
    "import string\n",
    "\n",
    "\n",
    "def day3_2(answer=None):\n",
    "    \"\"\"\n",
    "    Solves day 3 part 2.\n",
    "    \"\"\"\n",
    "    with open(\"day3.txt\", 'r') as f:\n",
    "        rucksacks = f.read().splitlines()\n",
    "        \n",
    "    string.ascii_lowercase\n",
    "    priorities = string.ascii_lowercase + string.ascii_uppercase\n",
    "\n",
    "    def get_priority(letter):\n",
    "        return priorities.index(letter) + 1\n",
    "    \n",
    "    def grouper(iterable: Iterable, n: int) -> Iterator[list]:\n",
    "        iterator = iter(iterable)\n",
    "        while chunk := list(itertools.islice(iterator, n)):\n",
    "            yield chunk\n",
    "    \n",
    "    priority_sum = 0\n",
    "    for group in grouper(rucksacks, 3):\n",
    "        elves_items = []\n",
    "        for elf in group:\n",
    "            elves_items.append(set(elf))\n",
    "            \n",
    "        badges = set.intersection(*elves_items)\n",
    "        badge = next(iter(badges))\n",
    "            \n",
    "        priority_sum += get_priority(badge)\n",
    "\n",
    "    check_answer(priority_sum, answer)"
   ]
  },
  {
   "cell_type": "code",
   "execution_count": 69,
   "id": "192673da",
   "metadata": {},
   "outputs": [
    {
     "name": "stdout",
     "output_type": "stream",
     "text": [
      "2716\n",
      "CPU times: user 4.57 ms, sys: 48 µs, total: 4.62 ms\n",
      "Wall time: 4 ms\n"
     ]
    }
   ],
   "source": [
    "%%time \n",
    "\n",
    "day3_2(answer=2716)"
   ]
  },
  {
   "cell_type": "markdown",
   "id": "44c55a8b",
   "metadata": {},
   "source": [
    "## Day 4"
   ]
  },
  {
   "cell_type": "code",
   "execution_count": 73,
   "id": "41322489",
   "metadata": {},
   "outputs": [],
   "source": [
    "def day4_1(answer=None):\n",
    "    with open(\"day4.txt\", 'r') as f:\n",
    "        pairs = f.read().splitlines()\n",
    "    cases = 0\n",
    "    for pair in pairs:\n",
    "        p1,p2 = pair.split(',')\n",
    "        p1 = set(range(int(p1.split('-')[0]),int(p1.split('-')[1]) + 1))\n",
    "        p2 = set(range(int(p2.split('-')[0]),int(p2.split('-')[1]) + 1))\n",
    "        if p1.issubset(p2) or p2.issubset(p1):\n",
    "            cases += 1\n",
    "    check_answer(cases, answer)"
   ]
  },
  {
   "cell_type": "code",
   "execution_count": 75,
   "id": "30f229e2",
   "metadata": {},
   "outputs": [
    {
     "name": "stdout",
     "output_type": "stream",
     "text": [
      "538\n"
     ]
    }
   ],
   "source": [
    "day4_1(538)"
   ]
  },
  {
   "cell_type": "code",
   "execution_count": 76,
   "id": "f9b19a0a",
   "metadata": {},
   "outputs": [],
   "source": [
    "def day4_2(answer=None):\n",
    "    with open(\"day4.txt\", 'r') as f:\n",
    "        pairs = f.read().splitlines()\n",
    "    \n",
    "    cases = 0\n",
    "    for pair in pairs:\n",
    "        p1,p2 = pair.split(',')\n",
    "        p1 = list(range(int(p1.split('-')[0]),int(p1.split('-')[1]) + 1))\n",
    "        p2 = list(range(int(p2.split('-')[0]),int(p2.split('-')[1]) + 1))\n",
    "        if (p1[-1] >= p2[0] and p1[-1] <= p2[-1]) or (p2[-1] >= p1[0] and p2[-1] <= p1[-1]):\n",
    "            cases += 1\n",
    "    check_answer(cases, answer)"
   ]
  },
  {
   "cell_type": "code",
   "execution_count": 78,
   "id": "63962a18",
   "metadata": {},
   "outputs": [
    {
     "name": "stdout",
     "output_type": "stream",
     "text": [
      "792\n"
     ]
    }
   ],
   "source": [
    "day4_2(792)"
   ]
  },
  {
   "cell_type": "code",
   "execution_count": null,
   "id": "ec9f7672",
   "metadata": {},
   "outputs": [],
   "source": []
  },
  {
   "cell_type": "code",
   "execution_count": null,
   "id": "2f0dd683",
   "metadata": {},
   "outputs": [],
   "source": []
  }
 ],
 "metadata": {
  "kernelspec": {
   "display_name": "Python 3 (ipykernel)",
   "language": "python",
   "name": "python3"
  },
  "language_info": {
   "codemirror_mode": {
    "name": "ipython",
    "version": 3
   },
   "file_extension": ".py",
   "mimetype": "text/x-python",
   "name": "python",
   "nbconvert_exporter": "python",
   "pygments_lexer": "ipython3",
   "version": "3.10.6"
  }
 },
 "nbformat": 4,
 "nbformat_minor": 5
}
