{
 "cells": [
  {
   "cell_type": "markdown",
   "id": "9a837266",
   "metadata": {},
   "source": [
    "# Advent of Code"
   ]
  },
  {
   "cell_type": "code",
   "execution_count": 33,
   "id": "26a06da6",
   "metadata": {},
   "outputs": [
    {
     "name": "stdout",
     "output_type": "stream",
     "text": [
      "day1.txt  LICENSE  Untitled.ipynb\r\n"
     ]
    }
   ],
   "source": [
    "!ls"
   ]
  },
  {
   "cell_type": "markdown",
   "id": "0b90b235",
   "metadata": {},
   "source": [
    "## Day 1"
   ]
  },
  {
   "cell_type": "code",
   "execution_count": 32,
   "id": "bad06023",
   "metadata": {},
   "outputs": [],
   "source": [
    "def day1_1(input_path):\n",
    "    \"\"\"\n",
    "    Find the Elf carrying more calories in total.\n",
    "    \"\"\"\n",
    "    with open(\"day1.txt\", 'r') as f:\n",
    "        calories = f.read().splitlines()\n",
    "    elves_cal = []\n",
    "    total_cal = 0\n",
    "    for c in calories:\n",
    "        if c == '':\n",
    "            elves_cal.append(total_cal)\n",
    "            total_cal = 0\n",
    "        else:\n",
    "            total_cal += int(c)\n",
    "    return max(elves_cal)"
   ]
  },
  {
   "cell_type": "code",
   "execution_count": 34,
   "id": "0e126e20",
   "metadata": {},
   "outputs": [
    {
     "data": {
      "text/plain": [
       "70509"
      ]
     },
     "execution_count": 34,
     "metadata": {},
     "output_type": "execute_result"
    }
   ],
   "source": [
    "day1_1('day1.txt')"
   ]
  },
  {
   "cell_type": "code",
   "execution_count": 35,
   "id": "be0f0cdf",
   "metadata": {},
   "outputs": [],
   "source": [
    "def day1_2(input_path):\n",
    "    \"\"\"\n",
    "    Find the top 3 Elves carrying more calories in total.\n",
    "    \"\"\"\n",
    "    with open(\"day1.txt\", 'r') as f:\n",
    "        calories = f.read().splitlines()\n",
    "    elves_cal = []\n",
    "    total_cal = 0\n",
    "    for c in calories:\n",
    "        if c == '':\n",
    "            elves_cal.append(total_cal)\n",
    "            total_cal = 0\n",
    "        else:\n",
    "            total_cal += int(c)\n",
    "    return sum(sorted(elves_cal, reverse=True)[:3])"
   ]
  },
  {
   "cell_type": "code",
   "execution_count": 36,
   "id": "6027577b",
   "metadata": {},
   "outputs": [
    {
     "data": {
      "text/plain": [
       "208567"
      ]
     },
     "execution_count": 36,
     "metadata": {},
     "output_type": "execute_result"
    }
   ],
   "source": [
    "day1_2(\"day1.txt\")"
   ]
  },
  {
   "cell_type": "code",
   "execution_count": null,
   "id": "5b9e97d4",
   "metadata": {},
   "outputs": [],
   "source": []
  },
  {
   "cell_type": "code",
   "execution_count": null,
   "id": "560a5a58",
   "metadata": {},
   "outputs": [],
   "source": []
  }
 ],
 "metadata": {
  "kernelspec": {
   "display_name": "Python 3 (ipykernel)",
   "language": "python",
   "name": "python3"
  },
  "language_info": {
   "codemirror_mode": {
    "name": "ipython",
    "version": 3
   },
   "file_extension": ".py",
   "mimetype": "text/x-python",
   "name": "python",
   "nbconvert_exporter": "python",
   "pygments_lexer": "ipython3",
   "version": "3.10.6"
  }
 },
 "nbformat": 4,
 "nbformat_minor": 5
}
