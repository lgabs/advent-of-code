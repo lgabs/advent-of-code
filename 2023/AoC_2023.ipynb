{
 "cells": [
  {
   "cell_type": "markdown",
   "id": "9b1091d8",
   "metadata": {},
   "source": [
    "# Advent of Code\n",
    "\n",
    "Solutions for Advent of Code 2023 puzzles."
   ]
  },
  {
   "cell_type": "code",
   "execution_count": 1,
   "id": "59444db5",
   "metadata": {},
   "outputs": [],
   "source": [
    "def check_answer(result, answer):\n",
    "    assert result == answer, f\"Result not equal to answer {answer}.\""
   ]
  },
  {
   "cell_type": "code",
   "execution_count": 2,
   "id": "d708dab1",
   "metadata": {},
   "outputs": [],
   "source": [
    "import re\n",
    "import itertools\n",
    "import math"
   ]
  },
  {
   "cell_type": "markdown",
   "id": "567e7f5c",
   "metadata": {},
   "source": [
    "## Day 1"
   ]
  },
  {
   "cell_type": "code",
   "execution_count": 3,
   "id": "a757052d",
   "metadata": {},
   "outputs": [],
   "source": [
    "def day1_1(answer=None):\n",
    "    with open(\"day1.txt\", \"r\") as f:\n",
    "        data = f.readlines()\n",
    "    digits = [re.findall(\"[0-9]\", d) for d in data]\n",
    "    result = sum([(int(d[0] + d[-1])) for d in digits])\n",
    "    if answer:\n",
    "        check_answer(result, answer)\n",
    "    return result"
   ]
  },
  {
   "cell_type": "code",
   "execution_count": 4,
   "id": "cd9d3bd3",
   "metadata": {},
   "outputs": [
    {
     "data": {
      "text/plain": [
       "54877"
      ]
     },
     "execution_count": 4,
     "metadata": {},
     "output_type": "execute_result"
    }
   ],
   "source": [
    "day1_1(answer=54877)"
   ]
  },
  {
   "cell_type": "code",
   "execution_count": 5,
   "id": "124378ea",
   "metadata": {},
   "outputs": [],
   "source": [
    "def day1_2(answer=None):\n",
    "    with open(\"day1.txt\", \"r\") as f:\n",
    "        data = f.readlines()\n",
    "\n",
    "    words = {\n",
    "        \"one\": 1,\n",
    "        \"two\": 2,\n",
    "        \"three\": 3,\n",
    "        \"four\": 4,\n",
    "        \"five\": 5,\n",
    "        \"six\": 6,\n",
    "        \"seven\": 7,\n",
    "        \"eight\": 8,\n",
    "        \"nine\": 9,\n",
    "    }\n",
    "    special_cases = []\n",
    "    # Special cases for combinations like 'eighthree'\n",
    "    for a, b in itertools.permutations(list(words.keys()), 2):\n",
    "        if a[-1] == b[0]:\n",
    "            special_cases.append((a[:-1] + b, a + b))\n",
    "\n",
    "    for text, replacement in special_cases:\n",
    "        data = [d.replace(text, replacement) for d in data]\n",
    "\n",
    "    digits = [\n",
    "        re.findall(\"(one|two|three|four|five|six|seven|eight|nine|[0-9])\", s)\n",
    "        for s in data\n",
    "    ]\n",
    "\n",
    "    pure_digits = []\n",
    "    for s in digits:\n",
    "        values = [words.get(v, v) for v in s]\n",
    "        pure_digits.append(values)\n",
    "\n",
    "    result = sum([int(str(s[0]) + str(s[-1])) for s in pure_digits])\n",
    "    if answer:\n",
    "        check_answer(result, answer)\n",
    "\n",
    "    return result"
   ]
  },
  {
   "cell_type": "code",
   "execution_count": 6,
   "id": "a223725e",
   "metadata": {},
   "outputs": [
    {
     "data": {
      "text/plain": [
       "54100"
      ]
     },
     "execution_count": 6,
     "metadata": {},
     "output_type": "execute_result"
    }
   ],
   "source": [
    "day1_2(answer=54100)"
   ]
  },
  {
   "cell_type": "markdown",
   "id": "32198320",
   "metadata": {},
   "source": [
    "## Day 2"
   ]
  },
  {
   "cell_type": "code",
   "execution_count": 7,
   "id": "6e8a0ef1",
   "metadata": {},
   "outputs": [],
   "source": [
    "def parser2(data):\n",
    "    parsed_data = []\n",
    "    for line in data:\n",
    "        game = int(re.findall('Game ([0-9]+)', line)[0])\n",
    "        subsets_raw = re.sub(r'Game ([0-9]+): ', '', line).split(\";\")\n",
    "        subsets = []\n",
    "        for subset in subsets_raw:\n",
    "            extract_number = lambda s, color: int(re.findall(f'([0-9]+) {color}', s)[0]) if re.findall(f'([0-9]+) {color}', s) else 0\n",
    "            red = extract_number(subset, 'red')\n",
    "            blue = extract_number(subset, 'blue')\n",
    "            green = extract_number(subset, 'green')\n",
    "\n",
    "            subsets.append((red,blue,green))\n",
    "        \n",
    "        parsed_data.append((game, subsets))\n",
    "    return parsed_data"
   ]
  },
  {
   "cell_type": "code",
   "execution_count": 8,
   "id": "ec12d84b",
   "metadata": {},
   "outputs": [],
   "source": [
    "def day2_1(answer=None):\n",
    "    with open(\"day2.txt\", \"r\") as f:\n",
    "        data = f.readlines()\n",
    "    games = parser2(data)\n",
    "    \n",
    "    bag = (12, 14, 13) # red, blue, green\n",
    "    possible_games, impossible_games = set(), set()\n",
    "    for game in games:\n",
    "        n, subsets = game[0], game[1]\n",
    "        possible_games.add(n)\n",
    "        for subset in subsets:\n",
    "            if subset[0] > bag[0] or subset[1] > bag[1] or subset[2] > bag[2]:\n",
    "                impossible_games.add(n)\n",
    "                break\n",
    "    possible_games = possible_games - impossible_games\n",
    "    result = sum(possible_games)\n",
    "    if answer:\n",
    "        check_answer(result, answer)\n",
    "    \n",
    "    return result"
   ]
  },
  {
   "cell_type": "code",
   "execution_count": 9,
   "id": "309ea156",
   "metadata": {},
   "outputs": [
    {
     "data": {
      "text/plain": [
       "1931"
      ]
     },
     "execution_count": 9,
     "metadata": {},
     "output_type": "execute_result"
    }
   ],
   "source": [
    "day2_1(answer=1931)"
   ]
  },
  {
   "cell_type": "code",
   "execution_count": 10,
   "id": "b2b16bbe",
   "metadata": {},
   "outputs": [],
   "source": [
    "def day2_2():\n",
    "    with open(\"day2.txt\", \"r\") as f:\n",
    "        data = f.readlines()\n",
    "    games = parser2(data)\n",
    "    \n",
    "    bag = (12, 14, 13) # red, blue, green\n",
    "    result = 0\n",
    "    for game in games:\n",
    "        reds = max([s[0] for s in game[1]])\n",
    "        blues = max([s[1] for s in game[1]])\n",
    "        greens = max([s[2] for s in game[1]])\n",
    "        result += reds * blues *greens\n",
    "    return result"
   ]
  },
  {
   "cell_type": "code",
   "execution_count": 12,
   "id": "5dc4622f",
   "metadata": {},
   "outputs": [
    {
     "data": {
      "text/plain": [
       "83105"
      ]
     },
     "execution_count": 12,
     "metadata": {},
     "output_type": "execute_result"
    }
   ],
   "source": [
    "day2_2()"
   ]
  },
  {
   "cell_type": "markdown",
   "id": "75899b25",
   "metadata": {},
   "source": [
    "## Day 3"
   ]
  },
  {
   "cell_type": "code",
   "execution_count": 13,
   "id": "06472303",
   "metadata": {},
   "outputs": [],
   "source": [
    "def parser3(filter_ch=None):\n",
    "    with open(\"day3.txt\", \"r\") as f:\n",
    "        data = f.read().splitlines() \n",
    "    lines = data\n",
    "    arr = [] # each value is a tuple (idx, value, parent_number)\n",
    "    \n",
    "    numbers = []\n",
    "    symbols = [] # symbol's positions\n",
    "    \n",
    "    for i, line in enumerate(lines):\n",
    "        line_vector = []\n",
    "        for j, ch in enumerate(line):\n",
    "            line_vector.append(ch)\n",
    "            if ch != '.' and not ch.isdigit():\n",
    "                if filter_ch and ch == filter_ch:\n",
    "                    symbols.append((i,j))\n",
    "                else:\n",
    "                    symbols.append((i,j))\n",
    "        arr.append(line_vector)\n",
    "    \n",
    "    return arr, symbols"
   ]
  },
  {
   "cell_type": "code",
   "execution_count": 14,
   "id": "5732a6bd",
   "metadata": {},
   "outputs": [],
   "source": [
    "def day3_1():\n",
    "    \n",
    "    arr, symbols = parser3()\n",
    "    \n",
    "    part_numbers = []\n",
    "    lx, ly = len(arr), len(arr[0])\n",
    "    visited_cells = []\n",
    "    \n",
    "    def is_cell_allowed(row, col, lx=lx, ly=ly):\n",
    "        return row >= 0 and row < lx and col >= 0 and col < ly\n",
    "    \n",
    "    for symbol in symbols:\n",
    "        i, j = symbol[0], symbol[1]\n",
    "        # navigate around the symbol\n",
    "        nodes = [(-1,1), (0,1), (1,1), (1,0), (1, -1), (0, -1), (-1,-1), (-1,0)]\n",
    "        for (di, dj) in nodes:\n",
    "            if is_cell_allowed(row=i + di, col=j + dj):\n",
    "                cell = arr[i + di][j + dj]\n",
    "                if (i + di, j + dj) not in visited_cells and cell.isdigit():\n",
    "                    part_number = cell\n",
    "                    # look to the left\n",
    "                    row, col = i + di, j + dj - 1\n",
    "                    if is_cell_allowed(row, col):\n",
    "                        previous = arr[row][col]\n",
    "                        visited_cells.append((row,col))\n",
    "                        while previous.isdigit():\n",
    "                            part_number = previous + part_number\n",
    "                            col -= 1\n",
    "                            if is_cell_allowed(row, col):\n",
    "                                previous = arr[row][col]\n",
    "                                visited_cells.append((row,col))\n",
    "                            else:\n",
    "                                break\n",
    "                    # look to the right\n",
    "                    row, col = i + di, j + dj + 1\n",
    "                    if is_cell_allowed(row, col):\n",
    "                        next_cell = arr[row][col]\n",
    "                        visited_cells.append((row,col))\n",
    "                        while next_cell.isdigit():\n",
    "                            part_number = part_number + next_cell\n",
    "                            col += 1\n",
    "                            if is_cell_allowed(row, col):\n",
    "                                next_cell = arr[row][col]\n",
    "                                visited_cells.append((row,col))\n",
    "                            else:\n",
    "                                break\n",
    "\n",
    "                    part_numbers.append(part_number)\n",
    "                    \n",
    "    part_numbers = [int(v) for v in part_numbers]\n",
    "    return sum(part_numbers)"
   ]
  },
  {
   "cell_type": "code",
   "execution_count": 15,
   "id": "4448af10",
   "metadata": {},
   "outputs": [
    {
     "data": {
      "text/plain": [
       "525119"
      ]
     },
     "execution_count": 15,
     "metadata": {},
     "output_type": "execute_result"
    }
   ],
   "source": [
    "day3_1()"
   ]
  },
  {
   "cell_type": "code",
   "execution_count": 16,
   "id": "ebd7d681",
   "metadata": {},
   "outputs": [],
   "source": [
    "def day3_2():\n",
    "    arr, symbols = parser3(filter_ch=\"*\")  \n",
    "    \n",
    "    all_part_numbers = []\n",
    "    lx, ly = len(arr), len(arr[0])\n",
    "    visited_cells = []\n",
    "    \n",
    "    def is_cell_allowed(row, col, lx=lx, ly=ly):\n",
    "        return row >= 0 and row < lx and col >= 0 and col < ly\n",
    "    \n",
    "    \n",
    "    for symbol in symbols: # only gears\n",
    "        i, j = symbol[0], symbol[1]\n",
    "        part_numbers = []\n",
    "        \n",
    "        # navigate around the symbol\n",
    "        nodes = [(-1,1), (0,1), (1,1), (1,0), (1, -1), (0, -1), (-1,-1), (-1,0)]\n",
    "        for (di, dj) in nodes:\n",
    "            if is_cell_allowed(row=i + di, col=j + dj):\n",
    "                cell = arr[i + di][j + dj]\n",
    "                if (i + di, j + dj) not in visited_cells and cell.isdigit():\n",
    "                    part_number = cell\n",
    "                    # look to the left\n",
    "                    row, col = i + di, j + dj - 1\n",
    "                    if is_cell_allowed(row, col):\n",
    "                        previous = arr[row][col]\n",
    "                        visited_cells.append((row,col))\n",
    "                        while previous.isdigit():\n",
    "                            part_number = previous + part_number\n",
    "                            col -= 1\n",
    "                            if is_cell_allowed(row, col):\n",
    "                                previous = arr[row][col]\n",
    "                                visited_cells.append((row,col))\n",
    "                            else:\n",
    "                                break\n",
    "                                \n",
    "                    # look to the right\n",
    "                    row, col = i + di, j + dj + 1\n",
    "                    if is_cell_allowed(row, col):\n",
    "                        next_cell = arr[row][col]\n",
    "                        visited_cells.append((row,col))\n",
    "                        while next_cell.isdigit():\n",
    "                            part_number = part_number + next_cell\n",
    "                            col += 1\n",
    "                            if is_cell_allowed(row, col):\n",
    "                                next_cell = arr[row][col]\n",
    "                                visited_cells.append((row,col))\n",
    "                            else:\n",
    "                                break\n",
    "\n",
    "                    part_numbers.append(part_number)\n",
    "        \n",
    "        part_numbers = [int(v) for v in part_numbers]\n",
    "        all_part_numbers.append(part_numbers)\n",
    "                    \n",
    "    # after all symbols, check for gears\n",
    "    gear_ratios = []\n",
    "    for symbol_numbers in all_part_numbers:\n",
    "        if symbol_numbers and len(symbol_numbers) == 2:\n",
    "            gear_ratios.append(math.prod(symbol_numbers))\n",
    "    \n",
    "    return sum(gear_ratios)"
   ]
  },
  {
   "cell_type": "code",
   "execution_count": 17,
   "id": "b61a367c",
   "metadata": {},
   "outputs": [
    {
     "data": {
      "text/plain": [
       "76504829"
      ]
     },
     "execution_count": 17,
     "metadata": {},
     "output_type": "execute_result"
    }
   ],
   "source": [
    "day3_2()"
   ]
  },
  {
   "cell_type": "markdown",
   "id": "1e81f6ac",
   "metadata": {},
   "source": [
    "## Day 4"
   ]
  },
  {
   "cell_type": "code",
   "execution_count": 18,
   "id": "6680867c",
   "metadata": {},
   "outputs": [],
   "source": [
    "def day4_1():\n",
    "    with open(\"day4.txt\", \"r\") as f:\n",
    "        data = f.read().splitlines()\n",
    "    points = 0\n",
    "    for d in data:\n",
    "        winning = set(re.findall('([0-9\\s]+) \\|', d)[0].split())\n",
    "        mine = set(re.findall('\\| ([0-9\\s]+)', d)[0].split())\n",
    "        if mine.intersection(winning):\n",
    "            points += 2 ** (len(mine.intersection(winning)) - 1)\n",
    "            \n",
    "    return points"
   ]
  },
  {
   "cell_type": "code",
   "execution_count": 19,
   "id": "81026344",
   "metadata": {},
   "outputs": [
    {
     "data": {
      "text/plain": [
       "21558"
      ]
     },
     "execution_count": 19,
     "metadata": {},
     "output_type": "execute_result"
    }
   ],
   "source": [
    "day4_1()"
   ]
  },
  {
   "cell_type": "code",
   "execution_count": 20,
   "id": "f0d00ba4",
   "metadata": {},
   "outputs": [],
   "source": [
    "def day4_2():\n",
    "    with open(\"day4.txt\", \"r\") as f:\n",
    "        cards = f.read().splitlines()\n",
    "    \n",
    "    deck = {} # dict with card number and number of copies\n",
    "    cards = cards\n",
    "    \n",
    "    for card in cards:\n",
    "        idx = int(re.findall('Card\\s+([0-9]+):', card)[0])\n",
    "        if idx not in deck:\n",
    "            deck[idx] = 1\n",
    "    \n",
    "    for card in cards:\n",
    "        idx = int(re.findall('Card\\s+([0-9]+):', card)[0])\n",
    "        copies = deck.get(idx)\n",
    "        winning = set(re.findall('([0-9\\s]+) \\|', card)[0].split())\n",
    "        mine = set(re.findall('\\| ([0-9\\s]+)', card)[0].split())\n",
    "            \n",
    "        matchs = len(mine.intersection(winning))\n",
    "        \n",
    "        # get copies\n",
    "        for i in range(idx + 1, idx + matchs + 1, 1):\n",
    "            if i not in deck:\n",
    "                deck[i] = 1\n",
    "            else:\n",
    "                deck[i] += copies # each copy gives new copies\n",
    "\n",
    "    return sum(deck.values())"
   ]
  },
  {
   "cell_type": "code",
   "execution_count": 21,
   "id": "6bb177a6",
   "metadata": {},
   "outputs": [
    {
     "data": {
      "text/plain": [
       "10425665"
      ]
     },
     "execution_count": 21,
     "metadata": {},
     "output_type": "execute_result"
    }
   ],
   "source": [
    "day4_2()"
   ]
  },
  {
   "cell_type": "markdown",
   "id": "f8da483b",
   "metadata": {},
   "source": [
    "## Day 5"
   ]
  },
  {
   "cell_type": "code",
   "execution_count": null,
   "id": "2767f9ca",
   "metadata": {},
   "outputs": [],
   "source": []
  },
  {
   "cell_type": "code",
   "execution_count": null,
   "id": "4005d44c",
   "metadata": {},
   "outputs": [],
   "source": []
  },
  {
   "cell_type": "code",
   "execution_count": null,
   "id": "8be0f5dc",
   "metadata": {},
   "outputs": [],
   "source": []
  }
 ],
 "metadata": {
  "kernelspec": {
   "display_name": "Python 3 (ipykernel)",
   "language": "python",
   "name": "python3"
  },
  "language_info": {
   "codemirror_mode": {
    "name": "ipython",
    "version": 3
   },
   "file_extension": ".py",
   "mimetype": "text/x-python",
   "name": "python",
   "nbconvert_exporter": "python",
   "pygments_lexer": "ipython3",
   "version": "3.11.4"
  }
 },
 "nbformat": 4,
 "nbformat_minor": 5
}
