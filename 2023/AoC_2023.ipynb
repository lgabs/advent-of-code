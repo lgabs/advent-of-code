{
 "cells": [
  {
   "cell_type": "markdown",
   "id": "9b1091d8",
   "metadata": {},
   "source": [
    "# Advent of Code\n",
    "\n",
    "Solutions for Advent of Code 2023 puzzles."
   ]
  },
  {
   "cell_type": "code",
   "execution_count": 1,
   "id": "ad461596",
   "metadata": {},
   "outputs": [],
   "source": [
    "import re\n",
    "import itertools\n",
    "import math"
   ]
  },
  {
   "cell_type": "markdown",
   "id": "567e7f5c",
   "metadata": {},
   "source": [
    "## Day 1"
   ]
  },
  {
   "cell_type": "code",
   "execution_count": 485,
   "id": "a757052d",
   "metadata": {},
   "outputs": [],
   "source": [
    "def day1_1():\n",
    "    with open(\"day1.txt\", \"r\") as f:\n",
    "        data = f.readlines()\n",
    "    digits = [re.findall(\"[0-9]\", d) for d in data]\n",
    "    result = sum([(int(d[0] + d[-1])) for d in digits])\n",
    "    return result"
   ]
  },
  {
   "cell_type": "code",
   "execution_count": 486,
   "id": "cd9d3bd3",
   "metadata": {},
   "outputs": [
    {
     "data": {
      "text/plain": [
       "54877"
      ]
     },
     "execution_count": 486,
     "metadata": {},
     "output_type": "execute_result"
    }
   ],
   "source": [
    "day1_1() # 54877"
   ]
  },
  {
   "cell_type": "code",
   "execution_count": 487,
   "id": "124378ea",
   "metadata": {},
   "outputs": [],
   "source": [
    "def day1_2():\n",
    "    with open(\"day1.txt\", \"r\") as f:\n",
    "        data = f.readlines()\n",
    "\n",
    "    words = {\n",
    "        \"one\": 1,\n",
    "        \"two\": 2,\n",
    "        \"three\": 3,\n",
    "        \"four\": 4,\n",
    "        \"five\": 5,\n",
    "        \"six\": 6,\n",
    "        \"seven\": 7,\n",
    "        \"eight\": 8,\n",
    "        \"nine\": 9,\n",
    "    }\n",
    "    special_cases = []\n",
    "    # Special cases for combinations like 'eighthree'\n",
    "    for a, b in itertools.permutations(list(words.keys()), 2):\n",
    "        if a[-1] == b[0]:\n",
    "            special_cases.append((a[:-1] + b, a + b))\n",
    "\n",
    "    for text, replacement in special_cases:\n",
    "        data = [d.replace(text, replacement) for d in data]\n",
    "\n",
    "    digits = [\n",
    "        re.findall(\"(one|two|three|four|five|six|seven|eight|nine|[0-9])\", s)\n",
    "        for s in data\n",
    "    ]\n",
    "\n",
    "    pure_digits = []\n",
    "    for s in digits:\n",
    "        values = [words.get(v, v) for v in s]\n",
    "        pure_digits.append(values)\n",
    "\n",
    "    result = sum([int(str(s[0]) + str(s[-1])) for s in pure_digits])\n",
    "\n",
    "    return result"
   ]
  },
  {
   "cell_type": "code",
   "execution_count": 488,
   "id": "a223725e",
   "metadata": {},
   "outputs": [
    {
     "data": {
      "text/plain": [
       "54100"
      ]
     },
     "execution_count": 488,
     "metadata": {},
     "output_type": "execute_result"
    }
   ],
   "source": [
    "day1_2() # 54100"
   ]
  },
  {
   "cell_type": "markdown",
   "id": "32198320",
   "metadata": {},
   "source": [
    "## Day 2"
   ]
  },
  {
   "cell_type": "code",
   "execution_count": 476,
   "id": "6e8a0ef1",
   "metadata": {},
   "outputs": [],
   "source": [
    "def parser2(data):\n",
    "    parsed_data = []\n",
    "    for line in data:\n",
    "        game = int(re.findall('Game ([0-9]+)', line)[0])\n",
    "        subsets_raw = re.sub(r'Game ([0-9]+): ', '', line).split(\";\")\n",
    "        subsets = []\n",
    "        for subset in subsets_raw:\n",
    "            extract_number = lambda s, color: int(re.findall(f'([0-9]+) {color}', s)[0]) if re.findall(f'([0-9]+) {color}', s) else 0\n",
    "            red = extract_number(subset, 'red')\n",
    "            blue = extract_number(subset, 'blue')\n",
    "            green = extract_number(subset, 'green')\n",
    "\n",
    "            subsets.append((red,blue,green))\n",
    "        \n",
    "        parsed_data.append((game, subsets))\n",
    "    return parsed_data"
   ]
  },
  {
   "cell_type": "code",
   "execution_count": 489,
   "id": "ec12d84b",
   "metadata": {},
   "outputs": [],
   "source": [
    "def day2_1():\n",
    "    with open(\"day2.txt\", \"r\") as f:\n",
    "        data = f.readlines()\n",
    "    games = parser2(data)\n",
    "    \n",
    "    bag = (12, 14, 13) # red, blue, green\n",
    "    possible_games, impossible_games = set(), set()\n",
    "    for game in games:\n",
    "        n, subsets = game[0], game[1]\n",
    "        possible_games.add(n)\n",
    "        for subset in subsets:\n",
    "            if subset[0] > bag[0] or subset[1] > bag[1] or subset[2] > bag[2]:\n",
    "                impossible_games.add(n)\n",
    "                break\n",
    "    possible_games = possible_games - impossible_games\n",
    "    result = sum(possible_games)\n",
    "    \n",
    "    return result"
   ]
  },
  {
   "cell_type": "code",
   "execution_count": 490,
   "id": "309ea156",
   "metadata": {},
   "outputs": [
    {
     "data": {
      "text/plain": [
       "1931"
      ]
     },
     "execution_count": 490,
     "metadata": {},
     "output_type": "execute_result"
    }
   ],
   "source": [
    "day2_1() # 1931"
   ]
  },
  {
   "cell_type": "code",
   "execution_count": 491,
   "id": "b2b16bbe",
   "metadata": {},
   "outputs": [],
   "source": [
    "def day2_2():\n",
    "    with open(\"day2.txt\", \"r\") as f:\n",
    "        data = f.readlines()\n",
    "    games = parser2(data)\n",
    "    \n",
    "    bag = (12, 14, 13) # red, blue, green\n",
    "    result = 0\n",
    "    for game in games:\n",
    "        reds = max([s[0] for s in game[1]])\n",
    "        blues = max([s[1] for s in game[1]])\n",
    "        greens = max([s[2] for s in game[1]])\n",
    "        result += reds * blues *greens\n",
    "    return result"
   ]
  },
  {
   "cell_type": "code",
   "execution_count": 493,
   "id": "5dc4622f",
   "metadata": {},
   "outputs": [
    {
     "data": {
      "text/plain": [
       "83105"
      ]
     },
     "execution_count": 493,
     "metadata": {},
     "output_type": "execute_result"
    }
   ],
   "source": [
    "day2_2() # 83105"
   ]
  },
  {
   "cell_type": "markdown",
   "id": "75899b25",
   "metadata": {},
   "source": [
    "## Day 3"
   ]
  },
  {
   "cell_type": "code",
   "execution_count": 494,
   "id": "44f2c613",
   "metadata": {},
   "outputs": [],
   "source": [
    "def parser3(filter_ch=None):\n",
    "    with open(\"day3.txt\", \"r\") as f:\n",
    "        data = f.read().splitlines() \n",
    "    lines = data\n",
    "    arr = [] # each value is a tuple (idx, value, parent_number)\n",
    "    \n",
    "    numbers = []\n",
    "    symbols = [] # symbol's positions\n",
    "    \n",
    "    for i, line in enumerate(lines):\n",
    "        line_vector = []\n",
    "        for j, ch in enumerate(line):\n",
    "            line_vector.append(ch)\n",
    "            if ch != '.' and not ch.isdigit():\n",
    "                if filter_ch and ch == filter_ch:\n",
    "                    symbols.append((i,j))\n",
    "                else:\n",
    "                    symbols.append((i,j))\n",
    "        arr.append(line_vector)\n",
    "    \n",
    "    return arr, symbols"
   ]
  },
  {
   "cell_type": "code",
   "execution_count": 495,
   "id": "5732a6bd",
   "metadata": {},
   "outputs": [],
   "source": [
    "def day3_1():\n",
    "    \n",
    "    arr, symbols = parser3()\n",
    "    \n",
    "    part_numbers = []\n",
    "    lx, ly = len(arr), len(arr[0])\n",
    "    visited_cells = []\n",
    "    \n",
    "    def is_cell_allowed(row, col, lx=lx, ly=ly):\n",
    "        return row >= 0 and row < lx and col >= 0 and col < ly\n",
    "    \n",
    "    for symbol in symbols:\n",
    "        i, j = symbol[0], symbol[1]\n",
    "        # navigate around the symbol\n",
    "        nodes = [(-1,1), (0,1), (1,1), (1,0), (1, -1), (0, -1), (-1,-1), (-1,0)]\n",
    "        for (di, dj) in nodes:\n",
    "            if is_cell_allowed(row=i + di, col=j + dj):\n",
    "                cell = arr[i + di][j + dj]\n",
    "                if (i + di, j + dj) not in visited_cells and cell.isdigit():\n",
    "                    part_number = cell\n",
    "                    # look to the left\n",
    "                    row, col = i + di, j + dj - 1\n",
    "                    if is_cell_allowed(row, col):\n",
    "                        previous = arr[row][col]\n",
    "                        visited_cells.append((row,col))\n",
    "                        while previous.isdigit():\n",
    "                            part_number = previous + part_number\n",
    "                            col -= 1\n",
    "                            if is_cell_allowed(row, col):\n",
    "                                previous = arr[row][col]\n",
    "                                visited_cells.append((row,col))\n",
    "                            else:\n",
    "                                break\n",
    "                    # look to the right\n",
    "                    row, col = i + di, j + dj + 1\n",
    "                    if is_cell_allowed(row, col):\n",
    "                        next_cell = arr[row][col]\n",
    "                        visited_cells.append((row,col))\n",
    "                        while next_cell.isdigit():\n",
    "                            part_number = part_number + next_cell\n",
    "                            col += 1\n",
    "                            if is_cell_allowed(row, col):\n",
    "                                next_cell = arr[row][col]\n",
    "                                visited_cells.append((row,col))\n",
    "                            else:\n",
    "                                break\n",
    "\n",
    "                    part_numbers.append(part_number)\n",
    "                    \n",
    "    part_numbers = [int(v) for v in part_numbers]\n",
    "    return sum(part_numbers)"
   ]
  },
  {
   "cell_type": "code",
   "execution_count": 497,
   "id": "4448af10",
   "metadata": {},
   "outputs": [
    {
     "data": {
      "text/plain": [
       "525119"
      ]
     },
     "execution_count": 497,
     "metadata": {},
     "output_type": "execute_result"
    }
   ],
   "source": [
    "day3_1() # 525119"
   ]
  },
  {
   "cell_type": "code",
   "execution_count": 498,
   "id": "ebd7d681",
   "metadata": {},
   "outputs": [],
   "source": [
    "def day3_2():\n",
    "    arr, symbols = parser3(filter_ch=\"*\")  \n",
    "    \n",
    "    all_part_numbers = []\n",
    "    lx, ly = len(arr), len(arr[0])\n",
    "    visited_cells = []\n",
    "    \n",
    "    def is_cell_allowed(row, col, lx=lx, ly=ly):\n",
    "        return row >= 0 and row < lx and col >= 0 and col < ly\n",
    "    \n",
    "    \n",
    "    for symbol in symbols: # only gears\n",
    "        i, j = symbol[0], symbol[1]\n",
    "        part_numbers = []\n",
    "        \n",
    "        # navigate around the symbol\n",
    "        nodes = [(-1,1), (0,1), (1,1), (1,0), (1, -1), (0, -1), (-1,-1), (-1,0)]\n",
    "        for (di, dj) in nodes:\n",
    "            if is_cell_allowed(row=i + di, col=j + dj):\n",
    "                cell = arr[i + di][j + dj]\n",
    "                if (i + di, j + dj) not in visited_cells and cell.isdigit():\n",
    "                    part_number = cell\n",
    "                    # look to the left\n",
    "                    row, col = i + di, j + dj - 1\n",
    "                    if is_cell_allowed(row, col):\n",
    "                        previous = arr[row][col]\n",
    "                        visited_cells.append((row,col))\n",
    "                        while previous.isdigit():\n",
    "                            part_number = previous + part_number\n",
    "                            col -= 1\n",
    "                            if is_cell_allowed(row, col):\n",
    "                                previous = arr[row][col]\n",
    "                                visited_cells.append((row,col))\n",
    "                            else:\n",
    "                                break\n",
    "                                \n",
    "                    # look to the right\n",
    "                    row, col = i + di, j + dj + 1\n",
    "                    if is_cell_allowed(row, col):\n",
    "                        next_cell = arr[row][col]\n",
    "                        visited_cells.append((row,col))\n",
    "                        while next_cell.isdigit():\n",
    "                            part_number = part_number + next_cell\n",
    "                            col += 1\n",
    "                            if is_cell_allowed(row, col):\n",
    "                                next_cell = arr[row][col]\n",
    "                                visited_cells.append((row,col))\n",
    "                            else:\n",
    "                                break\n",
    "\n",
    "                    part_numbers.append(part_number)\n",
    "        \n",
    "        part_numbers = [int(v) for v in part_numbers]\n",
    "        all_part_numbers.append(part_numbers)\n",
    "                    \n",
    "    # after all symbols, check for gears\n",
    "    gear_ratios = []\n",
    "    for symbol_numbers in all_part_numbers:\n",
    "        if symbol_numbers and len(symbol_numbers) == 2:\n",
    "            gear_ratios.append(math.prod(symbol_numbers))\n",
    "    \n",
    "    return sum(gear_ratios)"
   ]
  },
  {
   "cell_type": "code",
   "execution_count": 500,
   "id": "b61a367c",
   "metadata": {},
   "outputs": [
    {
     "data": {
      "text/plain": [
       "76504829"
      ]
     },
     "execution_count": 500,
     "metadata": {},
     "output_type": "execute_result"
    }
   ],
   "source": [
    "day3_2() # 76504829"
   ]
  },
  {
   "cell_type": "markdown",
   "id": "b6b7b5db",
   "metadata": {},
   "source": [
    "## Day 4"
   ]
  },
  {
   "cell_type": "code",
   "execution_count": 501,
   "id": "65416f53",
   "metadata": {},
   "outputs": [],
   "source": [
    "def day4_1():\n",
    "    with open(\"day4.txt\", \"r\") as f:\n",
    "        data = f.read().splitlines()\n",
    "    points = 0\n",
    "    for d in data:\n",
    "        winning = set(re.findall('([0-9\\s]+) \\|', d)[0].split())\n",
    "        mine = set(re.findall('\\| ([0-9\\s]+)', d)[0].split())\n",
    "        if mine.intersection(winning):\n",
    "            points += 2 ** (len(mine.intersection(winning)) - 1)\n",
    "            \n",
    "    return points"
   ]
  },
  {
   "cell_type": "code",
   "execution_count": 502,
   "id": "437ef0fa",
   "metadata": {},
   "outputs": [
    {
     "data": {
      "text/plain": [
       "21558"
      ]
     },
     "execution_count": 502,
     "metadata": {},
     "output_type": "execute_result"
    }
   ],
   "source": [
    "day4_1() # 21558"
   ]
  },
  {
   "cell_type": "code",
   "execution_count": 503,
   "id": "3f14ce4a",
   "metadata": {},
   "outputs": [],
   "source": [
    "def day4_2():\n",
    "    with open(\"day4.txt\", \"r\") as f:\n",
    "        cards = f.read().splitlines()\n",
    "    \n",
    "    deck = {} # dict with card number and number of copies\n",
    "    cards = cards\n",
    "    \n",
    "    for card in cards:\n",
    "        idx = int(re.findall('Card\\s+([0-9]+):', card)[0])\n",
    "        if idx not in deck:\n",
    "            deck[idx] = 1\n",
    "    \n",
    "    for card in cards:\n",
    "        idx = int(re.findall('Card\\s+([0-9]+):', card)[0])\n",
    "        copies = deck.get(idx)\n",
    "        winning = set(re.findall('([0-9\\s]+) \\|', card)[0].split())\n",
    "        mine = set(re.findall('\\| ([0-9\\s]+)', card)[0].split())\n",
    "            \n",
    "        matchs = len(mine.intersection(winning))\n",
    "        \n",
    "        # get copies\n",
    "        for i in range(idx + 1, idx + matchs + 1, 1):\n",
    "            if i not in deck:\n",
    "                deck[i] = 1\n",
    "            else:\n",
    "                deck[i] += copies # each copy gives new copies\n",
    "\n",
    "    return sum(deck.values())"
   ]
  },
  {
   "cell_type": "code",
   "execution_count": 504,
   "id": "55fcd5a3",
   "metadata": {},
   "outputs": [
    {
     "data": {
      "text/plain": [
       "10425665"
      ]
     },
     "execution_count": 504,
     "metadata": {},
     "output_type": "execute_result"
    }
   ],
   "source": [
    "day4_2() # 10425665"
   ]
  },
  {
   "cell_type": "markdown",
   "id": "5953abe4",
   "metadata": {},
   "source": [
    "## Day 5"
   ]
  },
  {
   "cell_type": "code",
   "execution_count": 506,
   "id": "81093206",
   "metadata": {},
   "outputs": [],
   "source": [
    "def parser5(sample=True, part2=False):\n",
    "    sample = \"\"if not sample else \"samples/\"\n",
    "    with open(f\"{sample}day5.txt\", \"r\") as f:\n",
    "        data = f.read()\n",
    "        data = re.sub('\\n+', ' ', data)\n",
    "    \n",
    "    real_seeds = []\n",
    "    if part2:\n",
    "        seeds = re.findall('seeds: ([0-9\\s]+)', data)[0].split()\n",
    "        seeds = [int(v) for v in seeds]\n",
    "        for i in range(0, len(seeds), 2):\n",
    "            real_seeds.append((seeds[i], seeds[i+1]))\n",
    "        seeds = real_seeds\n",
    "    else:\n",
    "        seeds = re.findall('seeds: ([0-9\\s]+)', data)[0].split()\n",
    "        seeds = [int(v) for v in seeds]\n",
    "    \n",
    "    maps = re.findall(\"([\\w]+)-to-([\\w]+) map: ([0-9\\s]+)\", data)\n",
    "    maps = [(dest, src, re.split('([0-9]+\\s[0-9]+\\s[0-9]+)', v) ) for (dest, src, v) in maps]\n",
    "    maps = [(dest, src, [v for v in v if not re.match('\\s+', v) and v])  for (dest, src, v) in maps]\n",
    "    maps = [(dest, src, [tuple([int(v) for v in v.split()]) for v in v])  for (dest, src, v) in maps]\n",
    "    \n",
    "    return seeds, maps"
   ]
  },
  {
   "cell_type": "code",
   "execution_count": 509,
   "id": "a4ab1d94",
   "metadata": {},
   "outputs": [],
   "source": [
    "def day5_1(sample=False):\n",
    "    seeds, maps = parser5(sample, part2=False)\n",
    "    locs = []\n",
    "\n",
    "    def f(x, mapper):\n",
    "        for (dest, src, rng) in mapper[2]:\n",
    "            if x >= src and x <= src + rng - 1:\n",
    "                x = dest + (x - src)\n",
    "                break\n",
    "        return x\n",
    "    \n",
    "    for seed in seeds:\n",
    "        x = seed\n",
    "        for mapper in maps: \n",
    "            x = f(x, mapper)\n",
    "        locs.append(x)\n",
    "        \n",
    "    return min(locs)"
   ]
  },
  {
   "cell_type": "code",
   "execution_count": 510,
   "id": "ec744e73",
   "metadata": {},
   "outputs": [
    {
     "name": "stdout",
     "output_type": "stream",
     "text": [
      "CPU times: user 1.56 ms, sys: 837 µs, total: 2.39 ms\n",
      "Wall time: 2.16 ms\n"
     ]
    },
    {
     "data": {
      "text/plain": [
       "650599855"
      ]
     },
     "execution_count": 510,
     "metadata": {},
     "output_type": "execute_result"
    }
   ],
   "source": [
    "%%time\n",
    "day5_1(sample=False) # 650599855"
   ]
  },
  {
   "cell_type": "code",
   "execution_count": 518,
   "id": "2cb6a7db",
   "metadata": {},
   "outputs": [],
   "source": [
    "def day5_2(sample=False):\n",
    "    seeds, maps = parser5(sample, part2=True)\n",
    "    locs = []\n",
    "        \n",
    "    def f_inv(y, mapper):\n",
    "        x = y\n",
    "        for (dest, src, rng) in mapper[2]:\n",
    "            if y >= dest and y <= dest + rng - 1:\n",
    "                x = src + (y - dest)\n",
    "                break\n",
    "        return x\n",
    "\n",
    "    inv_maps = maps[::-1]\n",
    "    locations_map = inv_maps[0][2]\n",
    "    \n",
    "    for location in range(0, max([l[0] for l in locations_map])):\n",
    "        x = location\n",
    "        for mapper in inv_maps:\n",
    "            x = f_inv(x, mapper)\n",
    "        for (seed, rng) in seeds:\n",
    "            if x >= seed and x <= seed + rng -1:\n",
    "                return location"
   ]
  },
  {
   "cell_type": "code",
   "execution_count": 519,
   "id": "622192e4",
   "metadata": {},
   "outputs": [
    {
     "name": "stdout",
     "output_type": "stream",
     "text": [
      "CPU times: user 11.4 s, sys: 36.9 ms, total: 11.5 s\n",
      "Wall time: 11.6 s\n"
     ]
    },
    {
     "data": {
      "text/plain": [
       "1240035"
      ]
     },
     "execution_count": 519,
     "metadata": {},
     "output_type": "execute_result"
    }
   ],
   "source": [
    "%%time\n",
    "day5_2(sample=False) # 1240035"
   ]
  },
  {
   "cell_type": "markdown",
   "id": "2567c701",
   "metadata": {},
   "source": [
    "## Day 6"
   ]
  },
  {
   "cell_type": "code",
   "execution_count": 513,
   "id": "5d6f34fc",
   "metadata": {},
   "outputs": [],
   "source": [
    "def parser6(sample=True, part2=False):\n",
    "    sample = \"\"if not sample else \"samples/\"\n",
    "    with open(f\"{sample}day6.txt\", \"r\") as f:\n",
    "         data = f.readlines()\n",
    "    \n",
    "    if part2:\n",
    "        data[0] = re.sub('\\s+', '', data[0])\n",
    "        data[1] = re.sub('\\s+', '', data[1])\n",
    "    times = [int(v) for v in re.findall('([0-9]+)', data[0])]\n",
    "    distances = [int(v) for v in re.findall('([0-9]+)', data[1])]\n",
    "    \n",
    "    return times, distances"
   ]
  },
  {
   "cell_type": "code",
   "execution_count": 516,
   "id": "25d01cf0",
   "metadata": {},
   "outputs": [],
   "source": [
    "import math \n",
    "\n",
    "def day6_1(sample=True, part2=False):\n",
    "    times, distances = parser6(sample, part2)\n",
    "    \n",
    "    possibilities = []\n",
    "    for (t, d) in zip(times, distances):\n",
    "        delta = (t ** 2 - 4 * d) ** 0.5 / 2\n",
    "        x1, x2 = max(0, t/2 - delta), max(0, t/2 + delta)\n",
    "        l1 = math.ceil(x1) if int(x1) != x1 else x1 + 1\n",
    "        l2 = math.floor(x2) if int(x2) != x2 else x2 -1\n",
    "        possibilities.append(l2 - l1 + 1)\n",
    "        \n",
    "    \n",
    "    return math.prod(possibilities)"
   ]
  },
  {
   "cell_type": "code",
   "execution_count": 520,
   "id": "98582729",
   "metadata": {},
   "outputs": [
    {
     "data": {
      "text/plain": [
       "2374848"
      ]
     },
     "execution_count": 520,
     "metadata": {},
     "output_type": "execute_result"
    }
   ],
   "source": [
    "day6_1(sample=False) # 2374848"
   ]
  },
  {
   "cell_type": "code",
   "execution_count": 522,
   "id": "51792f6d",
   "metadata": {},
   "outputs": [
    {
     "data": {
      "text/plain": [
       "39132886"
      ]
     },
     "execution_count": 522,
     "metadata": {},
     "output_type": "execute_result"
    }
   ],
   "source": [
    "day6_1(sample=False, part2=True) # 39132886"
   ]
  },
  {
   "cell_type": "markdown",
   "id": "054e1f54",
   "metadata": {},
   "source": [
    "## Day 7"
   ]
  },
  {
   "cell_type": "code",
   "execution_count": 534,
   "id": "e7fb971f",
   "metadata": {},
   "outputs": [],
   "source": [
    "def hand_points(hand: str, deck, names, check_jokers=False) -> str:    \n",
    "    fullhand = {d: 0 for d in deck}\n",
    "    for card in hand:\n",
    "        fullhand[card] += 1\n",
    "\n",
    "    jokers = 0\n",
    "    if check_jokers:\n",
    "        jokers = len([card for card in hand if card == 'J'])\n",
    "\n",
    "    card_group = lambda fullhand, value:  [v for v in fullhand.values() if v == value]\n",
    "\n",
    "    if len(set(list(hand))) == 1: # five of a kind\n",
    "        return 7\n",
    "    elif card_group(fullhand, 4): # four of a kind\n",
    "        bonus = 1 if jokers > 0 else 0\n",
    "        return 6 + bonus\n",
    "    elif card_group(fullhand, 3) and card_group(fullhand, 2): # full house\n",
    "        bonus = 2 if jokers > 0 else 0\n",
    "        return 5 + bonus\n",
    "    elif card_group(fullhand, 3) and not card_group(fullhand, 2): # three of a kind\n",
    "        bonus = 2 if jokers > 0 else 0\n",
    "        return 4 + bonus\n",
    "    elif len(card_group(fullhand, 2)) == 2: # two pair\n",
    "        bonus = jokers + 1 if jokers > 0 else 0\n",
    "        assert jokers in (0,1,2)\n",
    "        return 3 + bonus\n",
    "    elif len(card_group(fullhand, 2)) == 1: # one pair\n",
    "        bonus = 2 if jokers > 0 else 0\n",
    "        return 2 + bonus\n",
    "    elif len(set(list(hand))) == len(list(hand)): # high card\n",
    "        bonus = 1 if jokers > 0 else 0\n",
    "        return 1 + bonus\n",
    "\n",
    "def day7(sample=True, part2=False):\n",
    "    sample = \"\" if not sample else \"samples/\"\n",
    "    with open(f\"{sample}day7.txt\", \"r\") as f:\n",
    "         data = f.readlines()\n",
    "    data = [d.split() for d in data]\n",
    "    bids = dict(data)\n",
    "    hands = list(bids.keys())\n",
    "    assert len(hands) == len(bids)\n",
    "    if part2:\n",
    "        deck = list('AKQT98765432J')\n",
    "    else:\n",
    "        deck = list('AKQJT98765432')\n",
    "        \n",
    "    names = {\n",
    "            7: \"Five of a Kind\",\n",
    "            6: \"Four of a Kind\",\n",
    "            5: \"Full House\",\n",
    "            4: \"Three of a Kind\",\n",
    "            3: \"Two Pair\",\n",
    "            2: \"One Pair\",\n",
    "            1: \"High Card\"\n",
    "        }\n",
    "    \n",
    "    import functools\n",
    "    def compare_hands(a, b):\n",
    "        a_pts = hand_points(a, deck, names, check_jokers=part2)\n",
    "        b_pts = hand_points(b, deck, names, check_jokers=part2)\n",
    "        if a_pts > b_pts:\n",
    "            return 1\n",
    "        elif a_pts < b_pts:\n",
    "            return -1\n",
    "        else:\n",
    "            for ch1, ch2 in zip(a, b):\n",
    "                if deck.index(ch1) != deck.index(ch2):\n",
    "                    if deck.index(ch1) < deck.index(ch2):\n",
    "                        return 1\n",
    "                    else:\n",
    "                        return -1\n",
    "        \n",
    "    sorted_hands = sorted(hands, key=functools.cmp_to_key(compare_hands))\n",
    "    total_points = 0\n",
    "    for hand in sorted_hands:\n",
    "        total_points += (sorted_hands.index(hand) + 1) * int(bids.get(hand))\n",
    "        \n",
    "    if sample: print(bids)\n",
    "            \n",
    "    return total_points"
   ]
  },
  {
   "cell_type": "code",
   "execution_count": 535,
   "id": "5343e3e4",
   "metadata": {},
   "outputs": [
    {
     "data": {
      "text/plain": [
       "250946742"
      ]
     },
     "execution_count": 535,
     "metadata": {},
     "output_type": "execute_result"
    }
   ],
   "source": [
    "day7(sample=False) # 250946742"
   ]
  },
  {
   "cell_type": "code",
   "execution_count": 536,
   "id": "6bce1eeb",
   "metadata": {},
   "outputs": [
    {
     "data": {
      "text/plain": [
       "251824095"
      ]
     },
     "execution_count": 536,
     "metadata": {},
     "output_type": "execute_result"
    }
   ],
   "source": [
    "day7(sample=False, part2=True) # 251824095"
   ]
  },
  {
   "cell_type": "markdown",
   "id": "b33e5518",
   "metadata": {},
   "source": [
    "## Day 8"
   ]
  },
  {
   "cell_type": "code",
   "execution_count": 538,
   "id": "f8c56502",
   "metadata": {},
   "outputs": [],
   "source": [
    "def parser8(sample='a', part2=False):\n",
    "    path = \"day8.txt\" if not sample else f\"samples/day8{sample}.txt\"\n",
    "    with open(path, \"r\") as f:\n",
    "         data = f.readlines()\n",
    "    instructions = re.findall('\\w+', data[0])\n",
    "    nodes = {}\n",
    "    for d in data[2:]:\n",
    "        node, maps = d.split('=')\n",
    "        nodes[re.findall('(\\w+)', node)[0]] = re.findall('(\\w{3})', maps)\n",
    "            \n",
    "    return instructions[0], nodes"
   ]
  },
  {
   "cell_type": "code",
   "execution_count": 548,
   "id": "11028c32",
   "metadata": {},
   "outputs": [],
   "source": [
    "def day8(sample='a', part2=False):\n",
    "    instructions, nodes_map = parser8(sample, part2)\n",
    "    n_i = len(instructions)\n",
    "    \n",
    "    current_nodes = ['AAA'] if not part2 else [node for node in nodes_map.keys() if node[-1] == 'A']\n",
    "    \n",
    "    n_nodes = len(current_nodes)\n",
    "    finishes = []\n",
    "    step = 0\n",
    "    \n",
    "    while len(finishes) != n_nodes:\n",
    "        step += 1\n",
    "        r = step % n_i\n",
    "        idx = n_i - 1 if r == 0 else r - 1\n",
    "        instruction = instructions[idx]\n",
    "        instruction = 0 if instruction == 'L' else 1\n",
    "        \n",
    "        next_nodes = []\n",
    "        for node in current_nodes:\n",
    "            next_node = nodes_map[node][instruction]\n",
    "            if next_node[-1] == 'Z':\n",
    "                finishes.append(step)\n",
    "            else:\n",
    "                next_nodes.append(next_node)\n",
    "    \n",
    "        current_nodes = next_nodes\n",
    "    \n",
    "    return math.lcm(*finishes)"
   ]
  },
  {
   "cell_type": "code",
   "execution_count": 549,
   "id": "e3a57eba",
   "metadata": {},
   "outputs": [
    {
     "data": {
      "text/plain": [
       "19667"
      ]
     },
     "execution_count": 549,
     "metadata": {},
     "output_type": "execute_result"
    }
   ],
   "source": [
    "day8(sample=False) # 19667"
   ]
  },
  {
   "cell_type": "code",
   "execution_count": 551,
   "id": "a9d8933a",
   "metadata": {},
   "outputs": [
    {
     "data": {
      "text/plain": [
       "19185263738117"
      ]
     },
     "execution_count": 551,
     "metadata": {},
     "output_type": "execute_result"
    }
   ],
   "source": [
    "day8(sample=False, part2=True) # 19185263738117"
   ]
  },
  {
   "cell_type": "markdown",
   "id": "a0519711",
   "metadata": {},
   "source": [
    "## Day 9"
   ]
  },
  {
   "cell_type": "code",
   "execution_count": 552,
   "id": "07ee65ec",
   "metadata": {},
   "outputs": [],
   "source": [
    "def parser9(sample=True, part2=False):\n",
    "    sample = \"\"if not sample else \"samples/\"\n",
    "    with open(f\"{sample}day9.txt\", \"r\") as f:\n",
    "        data = f.readlines()\n",
    "    data = [re.sub('\\n', '', d).split() for d in data]\n",
    "    data = [[int(v) for v in d] for d in data]\n",
    "\n",
    "    return data"
   ]
  },
  {
   "cell_type": "code",
   "execution_count": 557,
   "id": "f6563924",
   "metadata": {},
   "outputs": [],
   "source": [
    "def day9(sample=True, part2=False):\n",
    "    data = parser9(sample, part2)\n",
    "    forecasts = []\n",
    "    for series in data:\n",
    "        diffs = [series]\n",
    "        get_next_diff = lambda diff: [diff[i] - diff[i - 1] for i in range(1, len(diff))]\n",
    "        diff = series\n",
    "        while diff[-1] != 0:\n",
    "            next_diff = get_next_diff(diff)\n",
    "            diffs.append(next_diff)\n",
    "            diff = next_diff\n",
    "        \n",
    "        if not part2:\n",
    "            forecasts.append(sum([l[-1] for l in diffs]))\n",
    "        else:\n",
    "            forecast = sum([l[0] * (-1) ** i for i, l in enumerate(diffs)])            \n",
    "            forecasts.append(forecast)\n",
    "    \n",
    "    return sum(forecasts)"
   ]
  },
  {
   "cell_type": "code",
   "execution_count": 558,
   "id": "ca59070a",
   "metadata": {},
   "outputs": [
    {
     "data": {
      "text/plain": [
       "1995001648"
      ]
     },
     "execution_count": 558,
     "metadata": {},
     "output_type": "execute_result"
    }
   ],
   "source": [
    "day9(sample=False, part2=False) # 1995001648"
   ]
  },
  {
   "cell_type": "code",
   "execution_count": 560,
   "id": "f70cb785",
   "metadata": {},
   "outputs": [
    {
     "data": {
      "text/plain": [
       "988"
      ]
     },
     "execution_count": 560,
     "metadata": {},
     "output_type": "execute_result"
    }
   ],
   "source": [
    "day9(sample=False, part2=True) # 988"
   ]
  },
  {
   "cell_type": "code",
   "execution_count": null,
   "id": "c1d7c6f9",
   "metadata": {},
   "outputs": [],
   "source": []
  }
 ],
 "metadata": {
  "kernelspec": {
   "display_name": "Python 3 (ipykernel)",
   "language": "python",
   "name": "python3"
  },
  "language_info": {
   "codemirror_mode": {
    "name": "ipython",
    "version": 3
   },
   "file_extension": ".py",
   "mimetype": "text/x-python",
   "name": "python",
   "nbconvert_exporter": "python",
   "pygments_lexer": "ipython3",
   "version": "3.11.4"
  }
 },
 "nbformat": 4,
 "nbformat_minor": 5
}
