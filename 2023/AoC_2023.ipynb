{
 "cells": [
  {
   "cell_type": "markdown",
   "id": "9b1091d8",
   "metadata": {},
   "source": [
    "# Advent of Code\n",
    "\n",
    "Solutions for Advent of Code 2023 puzzles."
   ]
  },
  {
   "cell_type": "code",
   "execution_count": 192,
   "id": "59444db5",
   "metadata": {},
   "outputs": [],
   "source": [
    "def check_answer(result, answer):\n",
    "    assert result == answer, f\"Result not equal to answer {answer}.\""
   ]
  },
  {
   "cell_type": "markdown",
   "id": "567e7f5c",
   "metadata": {},
   "source": [
    "## Day 1"
   ]
  },
  {
   "cell_type": "code",
   "execution_count": 193,
   "id": "a757052d",
   "metadata": {},
   "outputs": [],
   "source": [
    "import re\n",
    "\n",
    "\n",
    "def day1_1(answer=None):\n",
    "    with open(\"day1.txt\", \"r\") as f:\n",
    "        data = f.readlines()\n",
    "    digits = [re.findall(\"[0-9]\", d) for d in data]\n",
    "    result = sum([(int(d[0] + d[-1])) for d in digits])\n",
    "    if answer:\n",
    "        check_answer(result, answer)\n",
    "    return result"
   ]
  },
  {
   "cell_type": "code",
   "execution_count": 194,
   "id": "cd9d3bd3",
   "metadata": {},
   "outputs": [
    {
     "data": {
      "text/plain": [
       "54877"
      ]
     },
     "execution_count": 194,
     "metadata": {},
     "output_type": "execute_result"
    }
   ],
   "source": [
    "day1_1(answer=54877)"
   ]
  },
  {
   "cell_type": "code",
   "execution_count": 198,
   "id": "124378ea",
   "metadata": {},
   "outputs": [],
   "source": [
    "import itertools\n",
    "\n",
    "\n",
    "def day1_2(answer=None):\n",
    "    with open(\"day1.txt\", \"r\") as f:\n",
    "        data = f.readlines()\n",
    "\n",
    "    words = {\n",
    "        \"one\": 1,\n",
    "        \"two\": 2,\n",
    "        \"three\": 3,\n",
    "        \"four\": 4,\n",
    "        \"five\": 5,\n",
    "        \"six\": 6,\n",
    "        \"seven\": 7,\n",
    "        \"eight\": 8,\n",
    "        \"nine\": 9,\n",
    "    }\n",
    "    special_cases = []\n",
    "    # Special cases for combinations like 'eighthree'\n",
    "    for a, b in itertools.permutations(list(words.keys()), 2):\n",
    "        if a[-1] == b[0]:\n",
    "            special_cases.append((a[:-1] + b, a + b))\n",
    "\n",
    "    for text, replacement in special_cases:\n",
    "        data = [d.replace(text, replacement) for d in data]\n",
    "\n",
    "    digits = [\n",
    "        re.findall(\"(one|two|three|four|five|six|seven|eight|nine|[0-9])\", s)\n",
    "        for s in data\n",
    "    ]\n",
    "\n",
    "    pure_digits = []\n",
    "    for s in digits:\n",
    "        values = [words.get(v, v) for v in s]\n",
    "        pure_digits.append(values)\n",
    "\n",
    "    result = sum([int(str(s[0]) + str(s[-1])) for s in pure_digits])\n",
    "    if answer:\n",
    "        check_answer(result, answer)\n",
    "\n",
    "    return result"
   ]
  },
  {
   "cell_type": "code",
   "execution_count": 199,
   "id": "a223725e",
   "metadata": {},
   "outputs": [
    {
     "data": {
      "text/plain": [
       "54100"
      ]
     },
     "execution_count": 199,
     "metadata": {},
     "output_type": "execute_result"
    }
   ],
   "source": [
    "day1_2(answer=54100)"
   ]
  },
  {
   "cell_type": "markdown",
   "id": "4238809f",
   "metadata": {},
   "source": [
    "## Day 2"
   ]
  },
  {
   "cell_type": "code",
   "execution_count": 201,
   "id": "e7d439fe",
   "metadata": {},
   "outputs": [],
   "source": [
    "import re\n",
    "\n",
    "def parser2(data):\n",
    "    parsed_data = []\n",
    "    for line in data:\n",
    "        game = int(re.findall('Game ([0-9]+)', line)[0])\n",
    "        subsets_raw = re.sub(r'Game ([0-9]+): ', '', line).split(\";\")\n",
    "        subsets = []\n",
    "        for subset in subsets_raw:\n",
    "            extract_number = lambda s, color: int(re.findall(f'([0-9]+) {color}', s)[0]) if re.findall(f'([0-9]+) {color}', s) else 0\n",
    "            red = extract_number(subset, 'red')\n",
    "            blue = extract_number(subset, 'blue')\n",
    "            green = extract_number(subset, 'green')\n",
    "\n",
    "            subsets.append((red,blue,green))\n",
    "        \n",
    "        parsed_data.append((game, subsets))\n",
    "    return parsed_data"
   ]
  },
  {
   "cell_type": "code",
   "execution_count": 202,
   "id": "faaed94f",
   "metadata": {},
   "outputs": [],
   "source": [
    "def day2_1(answer=None):\n",
    "    with open(\"day2.txt\", \"r\") as f:\n",
    "        data = f.readlines()\n",
    "    games = parser2(data)\n",
    "    \n",
    "    bag = (12, 14, 13) # red, blue, green\n",
    "    possible_games, impossible_games = set(), set()\n",
    "    for game in games:\n",
    "        n, subsets = game[0], game[1]\n",
    "        possible_games.add(n)\n",
    "        for subset in subsets:\n",
    "            if subset[0] > bag[0] or subset[1] > bag[1] or subset[2] > bag[2]:\n",
    "                impossible_games.add(n)\n",
    "                break\n",
    "    possible_games = possible_games - impossible_games\n",
    "    result = sum(possible_games)\n",
    "    if answer:\n",
    "        check_answer(result, answer)\n",
    "    \n",
    "    return result"
   ]
  },
  {
   "cell_type": "code",
   "execution_count": 203,
   "id": "b675ad0d",
   "metadata": {},
   "outputs": [
    {
     "data": {
      "text/plain": [
       "1931"
      ]
     },
     "execution_count": 203,
     "metadata": {},
     "output_type": "execute_result"
    }
   ],
   "source": [
    "day2_1(answer=1931)"
   ]
  },
  {
   "cell_type": "code",
   "execution_count": 204,
   "id": "cf30bbab",
   "metadata": {},
   "outputs": [],
   "source": [
    "def day2_2(answer=None):\n",
    "    with open(\"day2.txt\", \"r\") as f:\n",
    "        data = f.readlines()\n",
    "    games = parser2(data)\n",
    "    \n",
    "    bag = (12, 14, 13) # red, blue, green\n",
    "    result = 0\n",
    "    for game in games:\n",
    "        reds = max([s[0] for s in game[1]])\n",
    "        blues = max([s[1] for s in game[1]])\n",
    "        greens = max([s[2] for s in game[1]])\n",
    "        result += reds * blues *greens\n",
    "    return result"
   ]
  },
  {
   "cell_type": "code",
   "execution_count": 205,
   "id": "fa346d79",
   "metadata": {},
   "outputs": [
    {
     "data": {
      "text/plain": [
       "83105"
      ]
     },
     "execution_count": 205,
     "metadata": {},
     "output_type": "execute_result"
    }
   ],
   "source": [
    "day2_2()"
   ]
  }
 ],
 "metadata": {
  "kernelspec": {
   "display_name": "Python 3 (ipykernel)",
   "language": "python",
   "name": "python3"
  },
  "language_info": {
   "codemirror_mode": {
    "name": "ipython",
    "version": 3
   },
   "file_extension": ".py",
   "mimetype": "text/x-python",
   "name": "python",
   "nbconvert_exporter": "python",
   "pygments_lexer": "ipython3",
   "version": "3.11.4"
  }
 },
 "nbformat": 4,
 "nbformat_minor": 5
}
