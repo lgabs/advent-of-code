{
 "cells": [
  {
   "cell_type": "markdown",
   "id": "9b1091d8",
   "metadata": {},
   "source": [
    "# Advent of Code\n",
    "\n",
    "Solutions for Advent of Code 2023 puzzles."
   ]
  },
  {
   "cell_type": "code",
   "execution_count": 6,
   "id": "59444db5",
   "metadata": {},
   "outputs": [],
   "source": [
    "def check_answer(result, answer):\n",
    "    print(\"Result:\", result)\n",
    "    assert result == answer, f\"Result not equal to answer {answer}.\""
   ]
  },
  {
   "cell_type": "markdown",
   "id": "567e7f5c",
   "metadata": {},
   "source": [
    "## Day 1"
   ]
  },
  {
   "cell_type": "code",
   "execution_count": 7,
   "id": "a757052d",
   "metadata": {},
   "outputs": [],
   "source": [
    "import re\n",
    "\n",
    "\n",
    "def day1_1(answer=None):\n",
    "    with open(\"day1.txt\", \"r\") as f:\n",
    "        data = f.readlines()\n",
    "    digits = [re.findall(\"[0-9]\", d) for d in data]\n",
    "    result = sum([(int(d[0] + d[-1])) for d in digits])\n",
    "    if answer:\n",
    "        check_answer(result, answer)"
   ]
  },
  {
   "cell_type": "code",
   "execution_count": 9,
   "id": "cd9d3bd3",
   "metadata": {},
   "outputs": [
    {
     "name": "stdout",
     "output_type": "stream",
     "text": [
      "Result: 54877\n"
     ]
    }
   ],
   "source": [
    "day1_1(answer=54877)"
   ]
  },
  {
   "cell_type": "code",
   "execution_count": 12,
   "id": "124378ea",
   "metadata": {},
   "outputs": [],
   "source": [
    "import itertools\n",
    "\n",
    "\n",
    "def day1_2(answer=None):\n",
    "    with open(\"day1.txt\", \"r\") as f:\n",
    "        data = f.readlines()\n",
    "\n",
    "    words = {\n",
    "        \"one\": 1,\n",
    "        \"two\": 2,\n",
    "        \"three\": 3,\n",
    "        \"four\": 4,\n",
    "        \"five\": 5,\n",
    "        \"six\": 6,\n",
    "        \"seven\": 7,\n",
    "        \"eight\": 8,\n",
    "        \"nine\": 9,\n",
    "    }\n",
    "    special_cases = []\n",
    "    # Special cases for combinations like 'eighthree'\n",
    "    for a, b in itertools.permutations(list(words.keys()), 2):\n",
    "        if a[-1] == b[0]:\n",
    "            special_cases.append((a[:-1] + b, a + b))\n",
    "\n",
    "    for text, replacement in special_cases:\n",
    "        data = [d.replace(text, replacement) for d in data]\n",
    "\n",
    "    digits = [\n",
    "        re.findall(\"(one|two|three|four|five|six|seven|eight|nine|[0-9])\", s)\n",
    "        for s in data\n",
    "    ]\n",
    "\n",
    "    pure_digits = []\n",
    "    for s in digits:\n",
    "        values = [words.get(v, v) for v in s]\n",
    "        pure_digits.append(values)\n",
    "\n",
    "    result = sum([int(str(s[0]) + str(s[-1])) for s in pure_digits])\n",
    "    if answer:\n",
    "        check_answer(result, answer)"
   ]
  },
  {
   "cell_type": "code",
   "execution_count": 13,
   "metadata": {},
   "outputs": [
    {
     "name": "stdout",
     "output_type": "stream",
     "text": [
      "Result: 54100\n"
     ]
    }
   ],
   "source": [
    "day1_2(answer=54100)"
   ]
  },
  {
   "cell_type": "code",
   "execution_count": null,
   "metadata": {},
   "outputs": [],
   "source": []
  }
 ],
 "metadata": {
  "kernelspec": {
   "display_name": "Python 3 (ipykernel)",
   "language": "python",
   "name": "python3"
  },
  "language_info": {
   "codemirror_mode": {
    "name": "ipython",
    "version": 3
   },
   "file_extension": ".py",
   "mimetype": "text/x-python",
   "name": "python",
   "nbconvert_exporter": "python",
   "pygments_lexer": "ipython3",
   "version": "3.11.4"
  }
 },
 "nbformat": 4,
 "nbformat_minor": 5
}
